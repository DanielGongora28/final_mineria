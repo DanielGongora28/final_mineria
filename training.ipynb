{
 "cells": [
  {
   "cell_type": "markdown",
   "id": "4fdeddab",
   "metadata": {},
   "source": [
    "# Proyecto final Mineria de datos\n",
    "\n",
    "Prediccion de renuncias"
   ]
  },
  {
   "cell_type": "code",
   "execution_count": 66,
   "id": "26c0aee2",
   "metadata": {},
   "outputs": [],
   "source": [
    "import pandas as pd\n",
    "import numpy as np\n",
    "import matplotlib.pyplot as plt\n",
    "\n",
    "#-------\n",
    "from sklearn.preprocessing import MinMaxScaler"
   ]
  },
  {
   "cell_type": "markdown",
   "id": "c325a18a",
   "metadata": {},
   "source": [
    "## Ingesta de datos\n",
    "\n",
    "Se cargan los datos posteriores al procesamiento hecho en la plataforma dataiku"
   ]
  },
  {
   "cell_type": "code",
   "execution_count": 22,
   "id": "e9d43810",
   "metadata": {},
   "outputs": [],
   "source": [
    "data=pd.read_csv(r'data/predictive_data_joined_prepared.csv', sep=',')\n",
    "data['Retired'].replace({1:'Retired',0:'Not Retired'},inplace=True)"
   ]
  },
  {
   "cell_type": "code",
   "execution_count": 23,
   "id": "6739d3dc",
   "metadata": {},
   "outputs": [
    {
     "data": {
      "text/plain": [
       "Age                          int64\n",
       "BusinessTravel              object\n",
       "Department                  object\n",
       "DistanceFromHome             int64\n",
       "Education                    int64\n",
       "EducationField              object\n",
       "EnvironmentSatisfaction    float64\n",
       "Gender                      object\n",
       "JobInvolvement               int64\n",
       "JobLevel                     int64\n",
       "JobRole                     object\n",
       "JobSatisfaction            float64\n",
       "MaritalStatus               object\n",
       "MonthlyIncome                int64\n",
       "NumCompaniesWorked           int64\n",
       "PercentSalaryHike            int64\n",
       "PerformanceRating            int64\n",
       "Retired                     object\n",
       "StandardHours                int64\n",
       "StockOptionLevel             int64\n",
       "TotalWorkingYears            int64\n",
       "TrainingTimesLastYear        int64\n",
       "WorkLifeBalance            float64\n",
       "YearsAtCompany               int64\n",
       "YearsSinceLastPromotion      int64\n",
       "YearsWithCurrManager         int64\n",
       "dtype: object"
      ]
     },
     "execution_count": 23,
     "metadata": {},
     "output_type": "execute_result"
    }
   ],
   "source": [
    "data.dtypes.sort_index()"
   ]
  },
  {
   "cell_type": "code",
   "execution_count": 25,
   "id": "a5478afb",
   "metadata": {},
   "outputs": [],
   "source": [
    "for i in data.columns:\n",
    "    if data[i].dtype==object:\n",
    "        data[i]=data[i].astype('category')"
   ]
  },
  {
   "cell_type": "code",
   "execution_count": 46,
   "id": "5dac4321",
   "metadata": {},
   "outputs": [],
   "source": [
    "data.drop(columns=['StandardHours'],inplace=True)"
   ]
  },
  {
   "cell_type": "markdown",
   "id": "96158a8d",
   "metadata": {},
   "source": [
    "## Seleccion de Factores\n",
    "\n",
    "Identificar los factores clave de las renuncias de  personal."
   ]
  },
  {
   "cell_type": "code",
   "execution_count": 47,
   "id": "740763ce",
   "metadata": {},
   "outputs": [],
   "source": [
    "df_corr=data.copy()"
   ]
  },
  {
   "cell_type": "code",
   "execution_count": 48,
   "id": "a22f7f27",
   "metadata": {},
   "outputs": [],
   "source": [
    "dropf=['Gender','Retired']\n",
    "notdropf=['BusinessTravel','Department','EducationField',\n",
    "          'JobRole','MaritalStatus']"
   ]
  },
  {
   "cell_type": "code",
   "execution_count": 49,
   "id": "fd8a15a1",
   "metadata": {},
   "outputs": [],
   "source": [
    "df_corr=pd.get_dummies(df_corr, columns=notdropf, drop_first=False,dtype=int)\n",
    "df_corr=pd.get_dummies(df_corr, columns=dropf, drop_first=True,dtype=int)"
   ]
  },
  {
   "cell_type": "code",
   "execution_count": 61,
   "id": "dd2c8303",
   "metadata": {},
   "outputs": [
    {
     "data": {
      "text/plain": [
       "0       0\n",
       "1       1\n",
       "2       3\n",
       "3       3\n",
       "4       2\n",
       "       ..\n",
       "4405    1\n",
       "4406    0\n",
       "4407    0\n",
       "4408    1\n",
       "4409    0\n",
       "Name: StockOptionLevel, Length: 4410, dtype: int64"
      ]
     },
     "execution_count": 61,
     "metadata": {},
     "output_type": "execute_result"
    }
   ],
   "source": [
    "df_corr['StockOptionLevel']"
   ]
  },
  {
   "cell_type": "code",
   "execution_count": 59,
   "id": "c9fbf84e",
   "metadata": {},
   "outputs": [
    {
     "data": {
      "text/html": [
       "<div>\n",
       "<style scoped>\n",
       "    .dataframe tbody tr th:only-of-type {\n",
       "        vertical-align: middle;\n",
       "    }\n",
       "\n",
       "    .dataframe tbody tr th {\n",
       "        vertical-align: top;\n",
       "    }\n",
       "\n",
       "    .dataframe thead th {\n",
       "        text-align: right;\n",
       "    }\n",
       "</style>\n",
       "<table border=\"1\" class=\"dataframe\">\n",
       "  <thead>\n",
       "    <tr style=\"text-align: right;\">\n",
       "      <th></th>\n",
       "      <th>Retired_Retired</th>\n",
       "    </tr>\n",
       "  </thead>\n",
       "  <tbody>\n",
       "    <tr>\n",
       "      <th>StockOptionLevel</th>\n",
       "      <td>0.002172</td>\n",
       "    </tr>\n",
       "    <tr>\n",
       "      <th>JobRole_Laboratory Technician</th>\n",
       "      <td>0.003482</td>\n",
       "    </tr>\n",
       "    <tr>\n",
       "      <th>DistanceFromHome</th>\n",
       "      <td>0.004398</td>\n",
       "    </tr>\n",
       "    <tr>\n",
       "      <th>EducationField_Marketing</th>\n",
       "      <td>0.004832</td>\n",
       "    </tr>\n",
       "    <tr>\n",
       "      <th>Gender_Male</th>\n",
       "      <td>0.007092</td>\n",
       "    </tr>\n",
       "    <tr>\n",
       "      <th>EducationField_Medical</th>\n",
       "      <td>0.007377</td>\n",
       "    </tr>\n",
       "    <tr>\n",
       "      <th>JobLevel</th>\n",
       "      <td>0.009296</td>\n",
       "    </tr>\n",
       "    <tr>\n",
       "      <th>JobRole_Sales Representative</th>\n",
       "      <td>0.011686</td>\n",
       "    </tr>\n",
       "    <tr>\n",
       "      <th>EducationField_Life Sciences</th>\n",
       "      <td>0.012745</td>\n",
       "    </tr>\n",
       "    <tr>\n",
       "      <th>JobRole_Human Resources</th>\n",
       "      <td>0.012799</td>\n",
       "    </tr>\n",
       "    <tr>\n",
       "      <th>Department_Research &amp; Development</th>\n",
       "      <td>0.013588</td>\n",
       "    </tr>\n",
       "    <tr>\n",
       "      <th>JobRole_Healthcare Representative</th>\n",
       "      <td>0.013827</td>\n",
       "    </tr>\n",
       "    <tr>\n",
       "      <th>Education</th>\n",
       "      <td>0.015826</td>\n",
       "    </tr>\n",
       "    <tr>\n",
       "      <th>JobInvolvement</th>\n",
       "      <td>0.016178</td>\n",
       "    </tr>\n",
       "    <tr>\n",
       "      <th>PerformanceRating</th>\n",
       "      <td>0.016859</td>\n",
       "    </tr>\n",
       "    <tr>\n",
       "      <th>MonthlyIncome</th>\n",
       "      <td>0.019719</td>\n",
       "    </tr>\n",
       "    <tr>\n",
       "      <th>JobRole_Research Scientist</th>\n",
       "      <td>0.020434</td>\n",
       "    </tr>\n",
       "    <tr>\n",
       "      <th>JobRole_Sales Executive</th>\n",
       "      <td>0.021443</td>\n",
       "    </tr>\n",
       "    <tr>\n",
       "      <th>EducationField_Other</th>\n",
       "      <td>0.021744</td>\n",
       "    </tr>\n",
       "    <tr>\n",
       "      <th>Department_Sales</th>\n",
       "      <td>0.023063</td>\n",
       "    </tr>\n",
       "    <tr>\n",
       "      <th>PercentSalaryHike</th>\n",
       "      <td>0.023510</td>\n",
       "    </tr>\n",
       "    <tr>\n",
       "      <th>JobRole_Manager</th>\n",
       "      <td>0.023995</td>\n",
       "    </tr>\n",
       "    <tr>\n",
       "      <th>EducationField_Technical Degree</th>\n",
       "      <td>0.030514</td>\n",
       "    </tr>\n",
       "    <tr>\n",
       "      <th>YearsSinceLastPromotion</th>\n",
       "      <td>0.031027</td>\n",
       "    </tr>\n",
       "    <tr>\n",
       "      <th>JobRole_Research Director</th>\n",
       "      <td>0.040034</td>\n",
       "    </tr>\n",
       "    <tr>\n",
       "      <th>JobRole_Manufacturing Director</th>\n",
       "      <td>0.041487</td>\n",
       "    </tr>\n",
       "    <tr>\n",
       "      <th>BusinessTravel_Travel_Rarely</th>\n",
       "      <td>0.046490</td>\n",
       "    </tr>\n",
       "    <tr>\n",
       "      <th>NumCompaniesWorked</th>\n",
       "      <td>0.049951</td>\n",
       "    </tr>\n",
       "    <tr>\n",
       "      <th>TrainingTimesLastYear</th>\n",
       "      <td>0.054593</td>\n",
       "    </tr>\n",
       "    <tr>\n",
       "      <th>WorkLifeBalance</th>\n",
       "      <td>0.064384</td>\n",
       "    </tr>\n",
       "    <tr>\n",
       "      <th>BusinessTravel_Non-Travel</th>\n",
       "      <td>0.071006</td>\n",
       "    </tr>\n",
       "    <tr>\n",
       "      <th>MaritalStatus_Divorced</th>\n",
       "      <td>0.079807</td>\n",
       "    </tr>\n",
       "    <tr>\n",
       "      <th>Department_Human Resources</th>\n",
       "      <td>0.084270</td>\n",
       "    </tr>\n",
       "    <tr>\n",
       "      <th>MaritalStatus_Married</th>\n",
       "      <td>0.085828</td>\n",
       "    </tr>\n",
       "    <tr>\n",
       "      <th>EnvironmentSatisfaction</th>\n",
       "      <td>0.087870</td>\n",
       "    </tr>\n",
       "    <tr>\n",
       "      <th>EducationField_Human Resources</th>\n",
       "      <td>0.092122</td>\n",
       "    </tr>\n",
       "    <tr>\n",
       "      <th>JobSatisfaction</th>\n",
       "      <td>0.098963</td>\n",
       "    </tr>\n",
       "    <tr>\n",
       "      <th>BusinessTravel_Travel_Frequently</th>\n",
       "      <td>0.108933</td>\n",
       "    </tr>\n",
       "    <tr>\n",
       "      <th>YearsAtCompany</th>\n",
       "      <td>0.128184</td>\n",
       "    </tr>\n",
       "    <tr>\n",
       "      <th>Age</th>\n",
       "      <td>0.141897</td>\n",
       "    </tr>\n",
       "    <tr>\n",
       "      <th>YearsWithCurrManager</th>\n",
       "      <td>0.144643</td>\n",
       "    </tr>\n",
       "    <tr>\n",
       "      <th>TotalWorkingYears</th>\n",
       "      <td>0.158626</td>\n",
       "    </tr>\n",
       "    <tr>\n",
       "      <th>MaritalStatus_Single</th>\n",
       "      <td>0.162858</td>\n",
       "    </tr>\n",
       "    <tr>\n",
       "      <th>Retired_Retired</th>\n",
       "      <td>1.000000</td>\n",
       "    </tr>\n",
       "  </tbody>\n",
       "</table>\n",
       "</div>"
      ],
      "text/plain": [
       "                                   Retired_Retired\n",
       "StockOptionLevel                          0.002172\n",
       "JobRole_Laboratory Technician             0.003482\n",
       "DistanceFromHome                          0.004398\n",
       "EducationField_Marketing                  0.004832\n",
       "Gender_Male                               0.007092\n",
       "EducationField_Medical                    0.007377\n",
       "JobLevel                                  0.009296\n",
       "JobRole_Sales Representative              0.011686\n",
       "EducationField_Life Sciences              0.012745\n",
       "JobRole_Human Resources                   0.012799\n",
       "Department_Research & Development         0.013588\n",
       "JobRole_Healthcare Representative         0.013827\n",
       "Education                                 0.015826\n",
       "JobInvolvement                            0.016178\n",
       "PerformanceRating                         0.016859\n",
       "MonthlyIncome                             0.019719\n",
       "JobRole_Research Scientist                0.020434\n",
       "JobRole_Sales Executive                   0.021443\n",
       "EducationField_Other                      0.021744\n",
       "Department_Sales                          0.023063\n",
       "PercentSalaryHike                         0.023510\n",
       "JobRole_Manager                           0.023995\n",
       "EducationField_Technical Degree           0.030514\n",
       "YearsSinceLastPromotion                   0.031027\n",
       "JobRole_Research Director                 0.040034\n",
       "JobRole_Manufacturing Director            0.041487\n",
       "BusinessTravel_Travel_Rarely              0.046490\n",
       "NumCompaniesWorked                        0.049951\n",
       "TrainingTimesLastYear                     0.054593\n",
       "WorkLifeBalance                           0.064384\n",
       "BusinessTravel_Non-Travel                 0.071006\n",
       "MaritalStatus_Divorced                    0.079807\n",
       "Department_Human Resources                0.084270\n",
       "MaritalStatus_Married                     0.085828\n",
       "EnvironmentSatisfaction                   0.087870\n",
       "EducationField_Human Resources            0.092122\n",
       "JobSatisfaction                           0.098963\n",
       "BusinessTravel_Travel_Frequently          0.108933\n",
       "YearsAtCompany                            0.128184\n",
       "Age                                       0.141897\n",
       "YearsWithCurrManager                      0.144643\n",
       "TotalWorkingYears                         0.158626\n",
       "MaritalStatus_Single                      0.162858\n",
       "Retired_Retired                           1.000000"
      ]
     },
     "execution_count": 59,
     "metadata": {},
     "output_type": "execute_result"
    }
   ],
   "source": [
    "df_corr.corr().iloc[:,-1:].abs().sort_values(by='Retired_Retired')"
   ]
  },
  {
   "cell_type": "markdown",
   "id": "0e0668a2",
   "metadata": {},
   "source": [
    "Segun nuestro analisis de correlacion, _las variables mas representativas para definir si un recurso abandonara o no la compañia_ son:"
   ]
  },
  {
   "cell_type": "code",
   "execution_count": 60,
   "id": "d0d5c931",
   "metadata": {},
   "outputs": [
    {
     "data": {
      "text/html": [
       "<div>\n",
       "<style scoped>\n",
       "    .dataframe tbody tr th:only-of-type {\n",
       "        vertical-align: middle;\n",
       "    }\n",
       "\n",
       "    .dataframe tbody tr th {\n",
       "        vertical-align: top;\n",
       "    }\n",
       "\n",
       "    .dataframe thead th {\n",
       "        text-align: right;\n",
       "    }\n",
       "</style>\n",
       "<table border=\"1\" class=\"dataframe\">\n",
       "  <thead>\n",
       "    <tr style=\"text-align: right;\">\n",
       "      <th></th>\n",
       "      <th>Retired_Retired</th>\n",
       "    </tr>\n",
       "  </thead>\n",
       "  <tbody>\n",
       "    <tr>\n",
       "      <th>YearsAtCompany</th>\n",
       "      <td>0.128184</td>\n",
       "    </tr>\n",
       "    <tr>\n",
       "      <th>Age</th>\n",
       "      <td>0.141897</td>\n",
       "    </tr>\n",
       "    <tr>\n",
       "      <th>YearsWithCurrManager</th>\n",
       "      <td>0.144643</td>\n",
       "    </tr>\n",
       "    <tr>\n",
       "      <th>TotalWorkingYears</th>\n",
       "      <td>0.158626</td>\n",
       "    </tr>\n",
       "    <tr>\n",
       "      <th>MaritalStatus_Single</th>\n",
       "      <td>0.162858</td>\n",
       "    </tr>\n",
       "    <tr>\n",
       "      <th>Retired_Retired</th>\n",
       "      <td>1.000000</td>\n",
       "    </tr>\n",
       "  </tbody>\n",
       "</table>\n",
       "</div>"
      ],
      "text/plain": [
       "                      Retired_Retired\n",
       "YearsAtCompany               0.128184\n",
       "Age                          0.141897\n",
       "YearsWithCurrManager         0.144643\n",
       "TotalWorkingYears            0.158626\n",
       "MaritalStatus_Single         0.162858\n",
       "Retired_Retired              1.000000"
      ]
     },
     "execution_count": 60,
     "metadata": {},
     "output_type": "execute_result"
    }
   ],
   "source": [
    "df_corr.corr().iloc[:,-1:].abs().sort_values(by='Retired_Retired').tail(6)"
   ]
  },
  {
   "cell_type": "markdown",
   "id": "38ce7a2f",
   "metadata": {},
   "source": [
    "Y se consideraron variables irrelevantes las que tengan una correlacion con la variable objetivo `<0.01`"
   ]
  },
  {
   "cell_type": "code",
   "execution_count": 63,
   "id": "f7e0cd07",
   "metadata": {},
   "outputs": [
    {
     "data": {
      "text/html": [
       "<div>\n",
       "<style scoped>\n",
       "    .dataframe tbody tr th:only-of-type {\n",
       "        vertical-align: middle;\n",
       "    }\n",
       "\n",
       "    .dataframe tbody tr th {\n",
       "        vertical-align: top;\n",
       "    }\n",
       "\n",
       "    .dataframe thead th {\n",
       "        text-align: right;\n",
       "    }\n",
       "</style>\n",
       "<table border=\"1\" class=\"dataframe\">\n",
       "  <thead>\n",
       "    <tr style=\"text-align: right;\">\n",
       "      <th></th>\n",
       "      <th>Retired_Retired</th>\n",
       "    </tr>\n",
       "  </thead>\n",
       "  <tbody>\n",
       "    <tr>\n",
       "      <th>DistanceFromHome</th>\n",
       "      <td>0.004398</td>\n",
       "    </tr>\n",
       "    <tr>\n",
       "      <th>JobLevel</th>\n",
       "      <td>0.009296</td>\n",
       "    </tr>\n",
       "    <tr>\n",
       "      <th>StockOptionLevel</th>\n",
       "      <td>0.002172</td>\n",
       "    </tr>\n",
       "    <tr>\n",
       "      <th>EducationField_Marketing</th>\n",
       "      <td>0.004832</td>\n",
       "    </tr>\n",
       "    <tr>\n",
       "      <th>EducationField_Medical</th>\n",
       "      <td>0.007377</td>\n",
       "    </tr>\n",
       "    <tr>\n",
       "      <th>JobRole_Laboratory Technician</th>\n",
       "      <td>0.003482</td>\n",
       "    </tr>\n",
       "    <tr>\n",
       "      <th>Gender_Male</th>\n",
       "      <td>0.007092</td>\n",
       "    </tr>\n",
       "  </tbody>\n",
       "</table>\n",
       "</div>"
      ],
      "text/plain": [
       "                               Retired_Retired\n",
       "DistanceFromHome                      0.004398\n",
       "JobLevel                              0.009296\n",
       "StockOptionLevel                      0.002172\n",
       "EducationField_Marketing              0.004832\n",
       "EducationField_Medical                0.007377\n",
       "JobRole_Laboratory Technician         0.003482\n",
       "Gender_Male                           0.007092"
      ]
     },
     "execution_count": 63,
     "metadata": {},
     "output_type": "execute_result"
    }
   ],
   "source": [
    "#Serian:\n",
    "# Variables irrelevantes con correlacion < 0.01 con la variable objetivo\n",
    "irrelevantes = df_corr.corr().iloc[:, -1:].abs()\n",
    "irrelevantes = irrelevantes[irrelevantes['Retired_Retired'] < 0.01]\n",
    "irrelevantes"
   ]
  },
  {
   "cell_type": "markdown",
   "id": "3c3769b4",
   "metadata": {},
   "source": [
    "por lo que las variable irrelevantes para los ejercicios de clasificacion son:\n",
    "\n",
    "- `DistanceFromHome`\n",
    "\n",
    "- `JobLevel`\n",
    "\n",
    "- `StockOptionLevel`\n",
    "\n",
    "- `Gender`\n"
   ]
  },
  {
   "cell_type": "markdown",
   "id": "b1df2d2f",
   "metadata": {},
   "source": [
    "## Mineria"
   ]
  },
  {
   "cell_type": "markdown",
   "id": "36f8f5d6",
   "metadata": {},
   "source": [
    "### **Predictiva (Clasificacion)**\n",
    "\n",
    "\n",
    "1. **Preparación de datos:** variables numéricas se deben normalizar y variables categórcias se crean dummies\n",
    "2. **Aprendizaje del Modelo:** Kmeans, método del codo/rodilla\n",
    "3. **Evaluación del Modelo:** Inertia, silueta\n",
    "4. **Perfilamiento:** Descripción de centroides"
   ]
  },
  {
   "cell_type": "markdown",
   "id": "927c2283",
   "metadata": {},
   "source": [
    "#### Preparacion"
   ]
  },
  {
   "cell_type": "code",
   "execution_count": 69,
   "id": "58d158ab",
   "metadata": {},
   "outputs": [],
   "source": [
    "dfc=data.copy()"
   ]
  },
  {
   "cell_type": "code",
   "execution_count": 70,
   "id": "5c943c89",
   "metadata": {},
   "outputs": [],
   "source": [
    "dropf=['Gender','Retired']\n",
    "notdropf=['BusinessTravel','Department','EducationField',\n",
    "          'JobRole','MaritalStatus']"
   ]
  },
  {
   "cell_type": "code",
   "execution_count": 71,
   "id": "dc41135e",
   "metadata": {},
   "outputs": [],
   "source": [
    "dfc=pd.get_dummies(dfc, columns=notdropf, drop_first=False,dtype=int)\n",
    "dfc=pd.get_dummies(dfc, columns=dropf, drop_first=True,dtype=int)"
   ]
  },
  {
   "cell_type": "code",
   "execution_count": 72,
   "id": "8ab00872",
   "metadata": {},
   "outputs": [],
   "source": [
    "\n",
    "#1.\n",
    "variables_numericas=[i for i in dfc.columns if dfc[i].dtype != \"category\"]\n",
    "min_max_scaler = MinMaxScaler()\n",
    "min_max_scaler.fit(dfc[variables_numericas]) \n",
    "dfc[variables_numericas]= min_max_scaler.transform(dfc[variables_numericas]) "
   ]
  },
  {
   "cell_type": "code",
   "execution_count": 77,
   "id": "c79d7eb6",
   "metadata": {},
   "outputs": [
    {
     "name": "stdout",
     "output_type": "stream",
     "text": [
      "Las columnas despues de la obtencion de dummies pasaron de 25 a 44\n"
     ]
    }
   ],
   "source": [
    "print(\n",
    "    f'Las columnas despues de la obtencion de dummies pasaron de {data.columns.size} a {dfc.columns.size}'\n",
    ")"
   ]
  },
  {
   "cell_type": "markdown",
   "id": "2f09505e",
   "metadata": {},
   "source": [
    "#### Entrenamiento\n",
    "\n",
    "Se entrenaran 3 modelos de clasificacion diferentes:\n",
    "\n",
    "- Neural Networks\n",
    "- Regresion Logistica\n",
    "- KNN"
   ]
  },
  {
   "cell_type": "code",
   "execution_count": null,
   "id": "a62f53b5",
   "metadata": {},
   "outputs": [],
   "source": [
    "#Regresion Logistica"
   ]
  }
 ],
 "metadata": {
  "kernelspec": {
   "display_name": "Python 3",
   "language": "python",
   "name": "python3"
  },
  "language_info": {
   "codemirror_mode": {
    "name": "ipython",
    "version": 3
   },
   "file_extension": ".py",
   "mimetype": "text/x-python",
   "name": "python",
   "nbconvert_exporter": "python",
   "pygments_lexer": "ipython3",
   "version": "3.12.1"
  }
 },
 "nbformat": 4,
 "nbformat_minor": 5
}
