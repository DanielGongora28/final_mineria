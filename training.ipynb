{
 "cells": [
  {
   "cell_type": "markdown",
   "id": "4fdeddab",
   "metadata": {},
   "source": [
    "## Proyecto final Mineria de datos\n",
    "\n",
    "Prediccion de renuncias"
   ]
  },
  {
   "cell_type": "markdown",
   "id": "56492881",
   "metadata": {},
   "source": [
    "Importamos las librerias necesarias para el procesamiento"
   ]
  },
  {
   "cell_type": "code",
   "execution_count": 1,
   "id": "26c0aee2",
   "metadata": {},
   "outputs": [],
   "source": [
    "import pandas as pd\n",
    "import numpy as np\n",
    "import matplotlib.pyplot as plt\n",
    "\n",
    "#----Scalers y Encoders para preprocesamiento------#\n",
    "from sklearn.preprocessing import MinMaxScaler\n",
    "from sklearn.preprocessing import LabelEncoder\n",
    "from sklearn.model_selection import cross_validate\n",
    "\n",
    "#----------------------------------------_---------#\n",
    "from imblearn.over_sampling import SMOTE\n",
    "\n",
    "#---------- Algoritmos de Clasificacion -----------#\n",
    "from sklearn.neighbors import KNeighborsClassifier\n",
    "from sklearn.neural_network import MLPClassifier\n",
    "from sklearn.linear_model import LogisticRegression\n",
    "from sklearn.model_selection import cross_val_predict\n",
    "from sklearn.metrics import silhouette_score\n",
    "from sklearn.metrics import classification_report, confusion_matrix, ConfusionMatrixDisplay\n",
    "\n",
    "from sklearn.cluster import KMeans\n",
    "\n",
    "\n",
    "import pickle"
   ]
  },
  {
   "cell_type": "markdown",
   "id": "c325a18a",
   "metadata": {},
   "source": [
    "## Ingesta de datos\n",
    "\n",
    "Se cargan los datos posteriores al procesamiento hecho en la plataforma dataiku"
   ]
  },
  {
   "cell_type": "code",
   "execution_count": 33,
   "id": "e9d43810",
   "metadata": {},
   "outputs": [],
   "source": [
    "data=pd.read_csv(r'data/predictive_data_joined_prepared.csv', sep=',')\n",
    "data['Retired'].replace({1:'Retired',0:'Not Retired'},inplace=True)"
   ]
  },
  {
   "cell_type": "code",
   "execution_count": 34,
   "id": "6739d3dc",
   "metadata": {},
   "outputs": [
    {
     "data": {
      "text/plain": [
       "Age                          int64\n",
       "BusinessTravel              object\n",
       "Department                  object\n",
       "DistanceFromHome             int64\n",
       "Education                    int64\n",
       "EducationField              object\n",
       "EnvironmentSatisfaction    float64\n",
       "Gender                      object\n",
       "JobInvolvement               int64\n",
       "JobLevel                     int64\n",
       "JobRole                     object\n",
       "JobSatisfaction            float64\n",
       "MaritalStatus               object\n",
       "MonthlyIncome                int64\n",
       "NumCompaniesWorked           int64\n",
       "PercentSalaryHike            int64\n",
       "PerformanceRating            int64\n",
       "Retired                     object\n",
       "StandardHours                int64\n",
       "StockOptionLevel             int64\n",
       "TotalWorkingYears            int64\n",
       "TrainingTimesLastYear        int64\n",
       "WorkLifeBalance            float64\n",
       "YearsAtCompany               int64\n",
       "YearsSinceLastPromotion      int64\n",
       "YearsWithCurrManager         int64\n",
       "dtype: object"
      ]
     },
     "execution_count": 34,
     "metadata": {},
     "output_type": "execute_result"
    }
   ],
   "source": [
    "data.dtypes.sort_index()"
   ]
  },
  {
   "cell_type": "code",
   "execution_count": 35,
   "id": "a5478afb",
   "metadata": {},
   "outputs": [],
   "source": [
    "for i in data.columns:\n",
    "    if data[i].dtype==object:\n",
    "        data[i]=data[i].astype('category')"
   ]
  },
  {
   "cell_type": "code",
   "execution_count": 36,
   "id": "5dac4321",
   "metadata": {},
   "outputs": [],
   "source": [
    "data.drop(columns=['StandardHours'],inplace=True)"
   ]
  },
  {
   "cell_type": "markdown",
   "id": "96158a8d",
   "metadata": {},
   "source": [
    "## Seleccion de Factores\n",
    "\n",
    "Identificar los factores clave de las renuncias de  personal."
   ]
  },
  {
   "cell_type": "code",
   "execution_count": 37,
   "id": "740763ce",
   "metadata": {},
   "outputs": [],
   "source": [
    "df_corr=data.copy()"
   ]
  },
  {
   "cell_type": "code",
   "execution_count": 38,
   "id": "a22f7f27",
   "metadata": {},
   "outputs": [],
   "source": [
    "dropf=['Gender','Retired']\n",
    "notdropf=['BusinessTravel','Department','EducationField',\n",
    "          'JobRole','MaritalStatus']"
   ]
  },
  {
   "cell_type": "code",
   "execution_count": 41,
   "id": "c9228126",
   "metadata": {},
   "outputs": [
    {
     "data": {
      "text/html": [
       "<div>\n",
       "<style scoped>\n",
       "    .dataframe tbody tr th:only-of-type {\n",
       "        vertical-align: middle;\n",
       "    }\n",
       "\n",
       "    .dataframe tbody tr th {\n",
       "        vertical-align: top;\n",
       "    }\n",
       "\n",
       "    .dataframe thead th {\n",
       "        text-align: right;\n",
       "    }\n",
       "</style>\n",
       "<table border=\"1\" class=\"dataframe\">\n",
       "  <thead>\n",
       "    <tr style=\"text-align: right;\">\n",
       "      <th></th>\n",
       "      <th>JobInvolvement</th>\n",
       "      <th>PerformanceRating</th>\n",
       "      <th>Age</th>\n",
       "      <th>DistanceFromHome</th>\n",
       "      <th>Education</th>\n",
       "      <th>JobLevel</th>\n",
       "      <th>MonthlyIncome</th>\n",
       "      <th>NumCompaniesWorked</th>\n",
       "      <th>PercentSalaryHike</th>\n",
       "      <th>StockOptionLevel</th>\n",
       "      <th>TotalWorkingYears</th>\n",
       "      <th>TrainingTimesLastYear</th>\n",
       "      <th>YearsAtCompany</th>\n",
       "      <th>YearsSinceLastPromotion</th>\n",
       "      <th>YearsWithCurrManager</th>\n",
       "      <th>EnvironmentSatisfaction</th>\n",
       "      <th>JobSatisfaction</th>\n",
       "      <th>WorkLifeBalance</th>\n",
       "    </tr>\n",
       "  </thead>\n",
       "  <tbody>\n",
       "    <tr>\n",
       "      <th>count</th>\n",
       "      <td>4410.000000</td>\n",
       "      <td>4410.000000</td>\n",
       "      <td>4410.000000</td>\n",
       "      <td>4410.000000</td>\n",
       "      <td>4410.000000</td>\n",
       "      <td>4410.000000</td>\n",
       "      <td>4410.000000</td>\n",
       "      <td>4410.000000</td>\n",
       "      <td>4410.000000</td>\n",
       "      <td>4410.000000</td>\n",
       "      <td>4410.000000</td>\n",
       "      <td>4410.000000</td>\n",
       "      <td>4410.000000</td>\n",
       "      <td>4410.000000</td>\n",
       "      <td>4410.000000</td>\n",
       "      <td>4410.000000</td>\n",
       "      <td>4410.000000</td>\n",
       "      <td>4410.000000</td>\n",
       "    </tr>\n",
       "    <tr>\n",
       "      <th>mean</th>\n",
       "      <td>2.729932</td>\n",
       "      <td>3.153741</td>\n",
       "      <td>36.923810</td>\n",
       "      <td>9.192517</td>\n",
       "      <td>2.912925</td>\n",
       "      <td>2.063946</td>\n",
       "      <td>65029.312925</td>\n",
       "      <td>2.683220</td>\n",
       "      <td>15.209524</td>\n",
       "      <td>0.793878</td>\n",
       "      <td>11.256916</td>\n",
       "      <td>2.799320</td>\n",
       "      <td>7.008163</td>\n",
       "      <td>2.187755</td>\n",
       "      <td>4.123129</td>\n",
       "      <td>2.725170</td>\n",
       "      <td>2.734014</td>\n",
       "      <td>2.763492</td>\n",
       "    </tr>\n",
       "    <tr>\n",
       "      <th>std</th>\n",
       "      <td>0.711400</td>\n",
       "      <td>0.360742</td>\n",
       "      <td>9.133301</td>\n",
       "      <td>8.105026</td>\n",
       "      <td>1.023933</td>\n",
       "      <td>1.106689</td>\n",
       "      <td>47068.888559</td>\n",
       "      <td>2.499737</td>\n",
       "      <td>3.659108</td>\n",
       "      <td>0.851883</td>\n",
       "      <td>7.790928</td>\n",
       "      <td>1.288978</td>\n",
       "      <td>6.125135</td>\n",
       "      <td>3.221699</td>\n",
       "      <td>3.567327</td>\n",
       "      <td>1.089852</td>\n",
       "      <td>1.102071</td>\n",
       "      <td>0.703541</td>\n",
       "    </tr>\n",
       "    <tr>\n",
       "      <th>min</th>\n",
       "      <td>1.000000</td>\n",
       "      <td>3.000000</td>\n",
       "      <td>18.000000</td>\n",
       "      <td>1.000000</td>\n",
       "      <td>1.000000</td>\n",
       "      <td>1.000000</td>\n",
       "      <td>10090.000000</td>\n",
       "      <td>0.000000</td>\n",
       "      <td>11.000000</td>\n",
       "      <td>0.000000</td>\n",
       "      <td>0.000000</td>\n",
       "      <td>0.000000</td>\n",
       "      <td>0.000000</td>\n",
       "      <td>0.000000</td>\n",
       "      <td>0.000000</td>\n",
       "      <td>1.000000</td>\n",
       "      <td>1.000000</td>\n",
       "      <td>1.000000</td>\n",
       "    </tr>\n",
       "    <tr>\n",
       "      <th>25%</th>\n",
       "      <td>2.000000</td>\n",
       "      <td>3.000000</td>\n",
       "      <td>30.000000</td>\n",
       "      <td>2.000000</td>\n",
       "      <td>2.000000</td>\n",
       "      <td>1.000000</td>\n",
       "      <td>29110.000000</td>\n",
       "      <td>1.000000</td>\n",
       "      <td>12.000000</td>\n",
       "      <td>0.000000</td>\n",
       "      <td>6.000000</td>\n",
       "      <td>2.000000</td>\n",
       "      <td>3.000000</td>\n",
       "      <td>0.000000</td>\n",
       "      <td>2.000000</td>\n",
       "      <td>2.000000</td>\n",
       "      <td>2.000000</td>\n",
       "      <td>2.000000</td>\n",
       "    </tr>\n",
       "    <tr>\n",
       "      <th>50%</th>\n",
       "      <td>3.000000</td>\n",
       "      <td>3.000000</td>\n",
       "      <td>36.000000</td>\n",
       "      <td>7.000000</td>\n",
       "      <td>3.000000</td>\n",
       "      <td>2.000000</td>\n",
       "      <td>49190.000000</td>\n",
       "      <td>2.000000</td>\n",
       "      <td>14.000000</td>\n",
       "      <td>1.000000</td>\n",
       "      <td>10.000000</td>\n",
       "      <td>3.000000</td>\n",
       "      <td>5.000000</td>\n",
       "      <td>1.000000</td>\n",
       "      <td>3.000000</td>\n",
       "      <td>3.000000</td>\n",
       "      <td>3.000000</td>\n",
       "      <td>3.000000</td>\n",
       "    </tr>\n",
       "    <tr>\n",
       "      <th>75%</th>\n",
       "      <td>3.000000</td>\n",
       "      <td>3.000000</td>\n",
       "      <td>43.000000</td>\n",
       "      <td>14.000000</td>\n",
       "      <td>4.000000</td>\n",
       "      <td>3.000000</td>\n",
       "      <td>83800.000000</td>\n",
       "      <td>4.000000</td>\n",
       "      <td>18.000000</td>\n",
       "      <td>1.000000</td>\n",
       "      <td>15.000000</td>\n",
       "      <td>3.000000</td>\n",
       "      <td>9.000000</td>\n",
       "      <td>3.000000</td>\n",
       "      <td>7.000000</td>\n",
       "      <td>4.000000</td>\n",
       "      <td>4.000000</td>\n",
       "      <td>3.000000</td>\n",
       "    </tr>\n",
       "    <tr>\n",
       "      <th>max</th>\n",
       "      <td>4.000000</td>\n",
       "      <td>4.000000</td>\n",
       "      <td>60.000000</td>\n",
       "      <td>29.000000</td>\n",
       "      <td>5.000000</td>\n",
       "      <td>5.000000</td>\n",
       "      <td>199990.000000</td>\n",
       "      <td>9.000000</td>\n",
       "      <td>25.000000</td>\n",
       "      <td>3.000000</td>\n",
       "      <td>40.000000</td>\n",
       "      <td>6.000000</td>\n",
       "      <td>40.000000</td>\n",
       "      <td>15.000000</td>\n",
       "      <td>17.000000</td>\n",
       "      <td>4.000000</td>\n",
       "      <td>4.000000</td>\n",
       "      <td>4.000000</td>\n",
       "    </tr>\n",
       "  </tbody>\n",
       "</table>\n",
       "</div>"
      ],
      "text/plain": [
       "       JobInvolvement  PerformanceRating          Age  DistanceFromHome  \\\n",
       "count     4410.000000        4410.000000  4410.000000       4410.000000   \n",
       "mean         2.729932           3.153741    36.923810          9.192517   \n",
       "std          0.711400           0.360742     9.133301          8.105026   \n",
       "min          1.000000           3.000000    18.000000          1.000000   \n",
       "25%          2.000000           3.000000    30.000000          2.000000   \n",
       "50%          3.000000           3.000000    36.000000          7.000000   \n",
       "75%          3.000000           3.000000    43.000000         14.000000   \n",
       "max          4.000000           4.000000    60.000000         29.000000   \n",
       "\n",
       "         Education     JobLevel  MonthlyIncome  NumCompaniesWorked  \\\n",
       "count  4410.000000  4410.000000    4410.000000         4410.000000   \n",
       "mean      2.912925     2.063946   65029.312925            2.683220   \n",
       "std       1.023933     1.106689   47068.888559            2.499737   \n",
       "min       1.000000     1.000000   10090.000000            0.000000   \n",
       "25%       2.000000     1.000000   29110.000000            1.000000   \n",
       "50%       3.000000     2.000000   49190.000000            2.000000   \n",
       "75%       4.000000     3.000000   83800.000000            4.000000   \n",
       "max       5.000000     5.000000  199990.000000            9.000000   \n",
       "\n",
       "       PercentSalaryHike  StockOptionLevel  TotalWorkingYears  \\\n",
       "count        4410.000000       4410.000000        4410.000000   \n",
       "mean           15.209524          0.793878          11.256916   \n",
       "std             3.659108          0.851883           7.790928   \n",
       "min            11.000000          0.000000           0.000000   \n",
       "25%            12.000000          0.000000           6.000000   \n",
       "50%            14.000000          1.000000          10.000000   \n",
       "75%            18.000000          1.000000          15.000000   \n",
       "max            25.000000          3.000000          40.000000   \n",
       "\n",
       "       TrainingTimesLastYear  YearsAtCompany  YearsSinceLastPromotion  \\\n",
       "count            4410.000000     4410.000000              4410.000000   \n",
       "mean                2.799320        7.008163                 2.187755   \n",
       "std                 1.288978        6.125135                 3.221699   \n",
       "min                 0.000000        0.000000                 0.000000   \n",
       "25%                 2.000000        3.000000                 0.000000   \n",
       "50%                 3.000000        5.000000                 1.000000   \n",
       "75%                 3.000000        9.000000                 3.000000   \n",
       "max                 6.000000       40.000000                15.000000   \n",
       "\n",
       "       YearsWithCurrManager  EnvironmentSatisfaction  JobSatisfaction  \\\n",
       "count           4410.000000              4410.000000      4410.000000   \n",
       "mean               4.123129                 2.725170         2.734014   \n",
       "std                3.567327                 1.089852         1.102071   \n",
       "min                0.000000                 1.000000         1.000000   \n",
       "25%                2.000000                 2.000000         2.000000   \n",
       "50%                3.000000                 3.000000         3.000000   \n",
       "75%                7.000000                 4.000000         4.000000   \n",
       "max               17.000000                 4.000000         4.000000   \n",
       "\n",
       "       WorkLifeBalance  \n",
       "count      4410.000000  \n",
       "mean          2.763492  \n",
       "std           0.703541  \n",
       "min           1.000000  \n",
       "25%           2.000000  \n",
       "50%           3.000000  \n",
       "75%           3.000000  \n",
       "max           4.000000  "
      ]
     },
     "execution_count": 41,
     "metadata": {},
     "output_type": "execute_result"
    }
   ],
   "source": [
    "df_corr.describe()"
   ]
  },
  {
   "cell_type": "code",
   "execution_count": 8,
   "id": "fd8a15a1",
   "metadata": {},
   "outputs": [],
   "source": [
    "df_corr=pd.get_dummies(df_corr, columns=notdropf, drop_first=False,dtype=int)\n",
    "df_corr=pd.get_dummies(df_corr, columns=dropf, drop_first=True,dtype=int)"
   ]
  },
  {
   "cell_type": "code",
   "execution_count": 9,
   "id": "c9fbf84e",
   "metadata": {},
   "outputs": [
    {
     "data": {
      "text/html": [
       "<div>\n",
       "<style scoped>\n",
       "    .dataframe tbody tr th:only-of-type {\n",
       "        vertical-align: middle;\n",
       "    }\n",
       "\n",
       "    .dataframe tbody tr th {\n",
       "        vertical-align: top;\n",
       "    }\n",
       "\n",
       "    .dataframe thead th {\n",
       "        text-align: right;\n",
       "    }\n",
       "</style>\n",
       "<table border=\"1\" class=\"dataframe\">\n",
       "  <thead>\n",
       "    <tr style=\"text-align: right;\">\n",
       "      <th></th>\n",
       "      <th>Retired_Retired</th>\n",
       "    </tr>\n",
       "  </thead>\n",
       "  <tbody>\n",
       "    <tr>\n",
       "      <th>StockOptionLevel</th>\n",
       "      <td>0.002172</td>\n",
       "    </tr>\n",
       "    <tr>\n",
       "      <th>JobRole_Laboratory Technician</th>\n",
       "      <td>0.003482</td>\n",
       "    </tr>\n",
       "    <tr>\n",
       "      <th>DistanceFromHome</th>\n",
       "      <td>0.004398</td>\n",
       "    </tr>\n",
       "    <tr>\n",
       "      <th>EducationField_Marketing</th>\n",
       "      <td>0.004832</td>\n",
       "    </tr>\n",
       "    <tr>\n",
       "      <th>Gender_Male</th>\n",
       "      <td>0.007092</td>\n",
       "    </tr>\n",
       "    <tr>\n",
       "      <th>EducationField_Medical</th>\n",
       "      <td>0.007377</td>\n",
       "    </tr>\n",
       "    <tr>\n",
       "      <th>JobLevel</th>\n",
       "      <td>0.009296</td>\n",
       "    </tr>\n",
       "    <tr>\n",
       "      <th>JobRole_Sales Representative</th>\n",
       "      <td>0.011686</td>\n",
       "    </tr>\n",
       "    <tr>\n",
       "      <th>EducationField_Life Sciences</th>\n",
       "      <td>0.012745</td>\n",
       "    </tr>\n",
       "    <tr>\n",
       "      <th>JobRole_Human Resources</th>\n",
       "      <td>0.012799</td>\n",
       "    </tr>\n",
       "    <tr>\n",
       "      <th>Department_Research &amp; Development</th>\n",
       "      <td>0.013588</td>\n",
       "    </tr>\n",
       "    <tr>\n",
       "      <th>JobRole_Healthcare Representative</th>\n",
       "      <td>0.013827</td>\n",
       "    </tr>\n",
       "    <tr>\n",
       "      <th>Education</th>\n",
       "      <td>0.015826</td>\n",
       "    </tr>\n",
       "    <tr>\n",
       "      <th>JobInvolvement</th>\n",
       "      <td>0.016178</td>\n",
       "    </tr>\n",
       "    <tr>\n",
       "      <th>PerformanceRating</th>\n",
       "      <td>0.016859</td>\n",
       "    </tr>\n",
       "    <tr>\n",
       "      <th>MonthlyIncome</th>\n",
       "      <td>0.019719</td>\n",
       "    </tr>\n",
       "    <tr>\n",
       "      <th>JobRole_Research Scientist</th>\n",
       "      <td>0.020434</td>\n",
       "    </tr>\n",
       "    <tr>\n",
       "      <th>JobRole_Sales Executive</th>\n",
       "      <td>0.021443</td>\n",
       "    </tr>\n",
       "    <tr>\n",
       "      <th>EducationField_Other</th>\n",
       "      <td>0.021744</td>\n",
       "    </tr>\n",
       "    <tr>\n",
       "      <th>Department_Sales</th>\n",
       "      <td>0.023063</td>\n",
       "    </tr>\n",
       "    <tr>\n",
       "      <th>PercentSalaryHike</th>\n",
       "      <td>0.023510</td>\n",
       "    </tr>\n",
       "    <tr>\n",
       "      <th>JobRole_Manager</th>\n",
       "      <td>0.023995</td>\n",
       "    </tr>\n",
       "    <tr>\n",
       "      <th>EducationField_Technical Degree</th>\n",
       "      <td>0.030514</td>\n",
       "    </tr>\n",
       "    <tr>\n",
       "      <th>YearsSinceLastPromotion</th>\n",
       "      <td>0.031027</td>\n",
       "    </tr>\n",
       "    <tr>\n",
       "      <th>JobRole_Research Director</th>\n",
       "      <td>0.040034</td>\n",
       "    </tr>\n",
       "    <tr>\n",
       "      <th>JobRole_Manufacturing Director</th>\n",
       "      <td>0.041487</td>\n",
       "    </tr>\n",
       "    <tr>\n",
       "      <th>BusinessTravel_Travel_Rarely</th>\n",
       "      <td>0.046490</td>\n",
       "    </tr>\n",
       "    <tr>\n",
       "      <th>NumCompaniesWorked</th>\n",
       "      <td>0.049951</td>\n",
       "    </tr>\n",
       "    <tr>\n",
       "      <th>TrainingTimesLastYear</th>\n",
       "      <td>0.054593</td>\n",
       "    </tr>\n",
       "    <tr>\n",
       "      <th>WorkLifeBalance</th>\n",
       "      <td>0.064384</td>\n",
       "    </tr>\n",
       "    <tr>\n",
       "      <th>BusinessTravel_Non-Travel</th>\n",
       "      <td>0.071006</td>\n",
       "    </tr>\n",
       "    <tr>\n",
       "      <th>MaritalStatus_Divorced</th>\n",
       "      <td>0.079807</td>\n",
       "    </tr>\n",
       "    <tr>\n",
       "      <th>Department_Human Resources</th>\n",
       "      <td>0.084270</td>\n",
       "    </tr>\n",
       "    <tr>\n",
       "      <th>MaritalStatus_Married</th>\n",
       "      <td>0.085828</td>\n",
       "    </tr>\n",
       "    <tr>\n",
       "      <th>EnvironmentSatisfaction</th>\n",
       "      <td>0.087870</td>\n",
       "    </tr>\n",
       "    <tr>\n",
       "      <th>EducationField_Human Resources</th>\n",
       "      <td>0.092122</td>\n",
       "    </tr>\n",
       "    <tr>\n",
       "      <th>JobSatisfaction</th>\n",
       "      <td>0.098963</td>\n",
       "    </tr>\n",
       "    <tr>\n",
       "      <th>BusinessTravel_Travel_Frequently</th>\n",
       "      <td>0.108933</td>\n",
       "    </tr>\n",
       "    <tr>\n",
       "      <th>YearsAtCompany</th>\n",
       "      <td>0.128184</td>\n",
       "    </tr>\n",
       "    <tr>\n",
       "      <th>Age</th>\n",
       "      <td>0.141897</td>\n",
       "    </tr>\n",
       "    <tr>\n",
       "      <th>YearsWithCurrManager</th>\n",
       "      <td>0.144643</td>\n",
       "    </tr>\n",
       "    <tr>\n",
       "      <th>TotalWorkingYears</th>\n",
       "      <td>0.158626</td>\n",
       "    </tr>\n",
       "    <tr>\n",
       "      <th>MaritalStatus_Single</th>\n",
       "      <td>0.162858</td>\n",
       "    </tr>\n",
       "    <tr>\n",
       "      <th>Retired_Retired</th>\n",
       "      <td>1.000000</td>\n",
       "    </tr>\n",
       "  </tbody>\n",
       "</table>\n",
       "</div>"
      ],
      "text/plain": [
       "                                   Retired_Retired\n",
       "StockOptionLevel                          0.002172\n",
       "JobRole_Laboratory Technician             0.003482\n",
       "DistanceFromHome                          0.004398\n",
       "EducationField_Marketing                  0.004832\n",
       "Gender_Male                               0.007092\n",
       "EducationField_Medical                    0.007377\n",
       "JobLevel                                  0.009296\n",
       "JobRole_Sales Representative              0.011686\n",
       "EducationField_Life Sciences              0.012745\n",
       "JobRole_Human Resources                   0.012799\n",
       "Department_Research & Development         0.013588\n",
       "JobRole_Healthcare Representative         0.013827\n",
       "Education                                 0.015826\n",
       "JobInvolvement                            0.016178\n",
       "PerformanceRating                         0.016859\n",
       "MonthlyIncome                             0.019719\n",
       "JobRole_Research Scientist                0.020434\n",
       "JobRole_Sales Executive                   0.021443\n",
       "EducationField_Other                      0.021744\n",
       "Department_Sales                          0.023063\n",
       "PercentSalaryHike                         0.023510\n",
       "JobRole_Manager                           0.023995\n",
       "EducationField_Technical Degree           0.030514\n",
       "YearsSinceLastPromotion                   0.031027\n",
       "JobRole_Research Director                 0.040034\n",
       "JobRole_Manufacturing Director            0.041487\n",
       "BusinessTravel_Travel_Rarely              0.046490\n",
       "NumCompaniesWorked                        0.049951\n",
       "TrainingTimesLastYear                     0.054593\n",
       "WorkLifeBalance                           0.064384\n",
       "BusinessTravel_Non-Travel                 0.071006\n",
       "MaritalStatus_Divorced                    0.079807\n",
       "Department_Human Resources                0.084270\n",
       "MaritalStatus_Married                     0.085828\n",
       "EnvironmentSatisfaction                   0.087870\n",
       "EducationField_Human Resources            0.092122\n",
       "JobSatisfaction                           0.098963\n",
       "BusinessTravel_Travel_Frequently          0.108933\n",
       "YearsAtCompany                            0.128184\n",
       "Age                                       0.141897\n",
       "YearsWithCurrManager                      0.144643\n",
       "TotalWorkingYears                         0.158626\n",
       "MaritalStatus_Single                      0.162858\n",
       "Retired_Retired                           1.000000"
      ]
     },
     "execution_count": 9,
     "metadata": {},
     "output_type": "execute_result"
    }
   ],
   "source": [
    "df_corr.corr().iloc[:,-1:].abs().sort_values(by='Retired_Retired')"
   ]
  },
  {
   "cell_type": "markdown",
   "id": "0e0668a2",
   "metadata": {},
   "source": [
    "Segun nuestro analisis de correlacion, _las variables mas representativas para definir si un recurso abandonara o no la compañia_ son:"
   ]
  },
  {
   "cell_type": "code",
   "execution_count": 10,
   "id": "d0d5c931",
   "metadata": {},
   "outputs": [
    {
     "data": {
      "text/html": [
       "<div>\n",
       "<style scoped>\n",
       "    .dataframe tbody tr th:only-of-type {\n",
       "        vertical-align: middle;\n",
       "    }\n",
       "\n",
       "    .dataframe tbody tr th {\n",
       "        vertical-align: top;\n",
       "    }\n",
       "\n",
       "    .dataframe thead th {\n",
       "        text-align: right;\n",
       "    }\n",
       "</style>\n",
       "<table border=\"1\" class=\"dataframe\">\n",
       "  <thead>\n",
       "    <tr style=\"text-align: right;\">\n",
       "      <th></th>\n",
       "      <th>Retired_Retired</th>\n",
       "    </tr>\n",
       "  </thead>\n",
       "  <tbody>\n",
       "    <tr>\n",
       "      <th>YearsAtCompany</th>\n",
       "      <td>0.128184</td>\n",
       "    </tr>\n",
       "    <tr>\n",
       "      <th>Age</th>\n",
       "      <td>0.141897</td>\n",
       "    </tr>\n",
       "    <tr>\n",
       "      <th>YearsWithCurrManager</th>\n",
       "      <td>0.144643</td>\n",
       "    </tr>\n",
       "    <tr>\n",
       "      <th>TotalWorkingYears</th>\n",
       "      <td>0.158626</td>\n",
       "    </tr>\n",
       "    <tr>\n",
       "      <th>MaritalStatus_Single</th>\n",
       "      <td>0.162858</td>\n",
       "    </tr>\n",
       "    <tr>\n",
       "      <th>Retired_Retired</th>\n",
       "      <td>1.000000</td>\n",
       "    </tr>\n",
       "  </tbody>\n",
       "</table>\n",
       "</div>"
      ],
      "text/plain": [
       "                      Retired_Retired\n",
       "YearsAtCompany               0.128184\n",
       "Age                          0.141897\n",
       "YearsWithCurrManager         0.144643\n",
       "TotalWorkingYears            0.158626\n",
       "MaritalStatus_Single         0.162858\n",
       "Retired_Retired              1.000000"
      ]
     },
     "execution_count": 10,
     "metadata": {},
     "output_type": "execute_result"
    }
   ],
   "source": [
    "df_corr.corr().iloc[:,-1:].abs().sort_values(by='Retired_Retired').tail(6)"
   ]
  },
  {
   "cell_type": "markdown",
   "id": "38ce7a2f",
   "metadata": {},
   "source": [
    "Y se consideraron variables irrelevantes las que tengan una correlacion con la variable objetivo `<0.01`"
   ]
  },
  {
   "cell_type": "code",
   "execution_count": 11,
   "id": "f7e0cd07",
   "metadata": {},
   "outputs": [
    {
     "data": {
      "text/html": [
       "<div>\n",
       "<style scoped>\n",
       "    .dataframe tbody tr th:only-of-type {\n",
       "        vertical-align: middle;\n",
       "    }\n",
       "\n",
       "    .dataframe tbody tr th {\n",
       "        vertical-align: top;\n",
       "    }\n",
       "\n",
       "    .dataframe thead th {\n",
       "        text-align: right;\n",
       "    }\n",
       "</style>\n",
       "<table border=\"1\" class=\"dataframe\">\n",
       "  <thead>\n",
       "    <tr style=\"text-align: right;\">\n",
       "      <th></th>\n",
       "      <th>Retired_Retired</th>\n",
       "    </tr>\n",
       "  </thead>\n",
       "  <tbody>\n",
       "    <tr>\n",
       "      <th>DistanceFromHome</th>\n",
       "      <td>0.004398</td>\n",
       "    </tr>\n",
       "    <tr>\n",
       "      <th>JobLevel</th>\n",
       "      <td>0.009296</td>\n",
       "    </tr>\n",
       "    <tr>\n",
       "      <th>StockOptionLevel</th>\n",
       "      <td>0.002172</td>\n",
       "    </tr>\n",
       "    <tr>\n",
       "      <th>EducationField_Marketing</th>\n",
       "      <td>0.004832</td>\n",
       "    </tr>\n",
       "    <tr>\n",
       "      <th>EducationField_Medical</th>\n",
       "      <td>0.007377</td>\n",
       "    </tr>\n",
       "    <tr>\n",
       "      <th>JobRole_Laboratory Technician</th>\n",
       "      <td>0.003482</td>\n",
       "    </tr>\n",
       "    <tr>\n",
       "      <th>Gender_Male</th>\n",
       "      <td>0.007092</td>\n",
       "    </tr>\n",
       "  </tbody>\n",
       "</table>\n",
       "</div>"
      ],
      "text/plain": [
       "                               Retired_Retired\n",
       "DistanceFromHome                      0.004398\n",
       "JobLevel                              0.009296\n",
       "StockOptionLevel                      0.002172\n",
       "EducationField_Marketing              0.004832\n",
       "EducationField_Medical                0.007377\n",
       "JobRole_Laboratory Technician         0.003482\n",
       "Gender_Male                           0.007092"
      ]
     },
     "execution_count": 11,
     "metadata": {},
     "output_type": "execute_result"
    }
   ],
   "source": [
    "#Serian:\n",
    "# Variables irrelevantes con correlacion < 0.01 con la variable objetivo\n",
    "irrelevantes = df_corr.corr().iloc[:, -1:].abs()\n",
    "irrelevantes = irrelevantes[irrelevantes['Retired_Retired'] < 0.01]\n",
    "irrelevantes"
   ]
  },
  {
   "cell_type": "markdown",
   "id": "3c3769b4",
   "metadata": {},
   "source": [
    "por lo que las variable irrelevantes para los ejercicios de clasificacion son:\n",
    "\n",
    "- `DistanceFromHome`\n",
    "\n",
    "- `JobLevel`\n",
    "\n",
    "- `StockOptionLevel`\n",
    "\n",
    "- `Gender`\n"
   ]
  },
  {
   "cell_type": "code",
   "execution_count": 12,
   "id": "a6fc3ce5",
   "metadata": {},
   "outputs": [],
   "source": [
    "to_drop=['DistanceFromHome','JobLevel','StockOptionLevel','Gender']"
   ]
  },
  {
   "cell_type": "markdown",
   "id": "b1df2d2f",
   "metadata": {},
   "source": [
    "## Mineria"
   ]
  },
  {
   "cell_type": "markdown",
   "id": "3528f00f",
   "metadata": {},
   "source": [
    "### **Descriptiva (Clustering)**\n",
    "\n",
    "Para los metodos de clustering, se utilizaran todas las variables, iniciales sin el dropeo por irrelevancia\n",
    "Se utilizara el metodo del codo para seleccionar el Numero de clusters y porterior mente se ejcutara el modelo y se dara una descripcion de los clusters identificados"
   ]
  },
  {
   "cell_type": "code",
   "execution_count": 39,
   "id": "cf235bf5",
   "metadata": {},
   "outputs": [
    {
     "ename": "KeyError",
     "evalue": "\"['Retired_Retired'] not found in axis\"",
     "output_type": "error",
     "traceback": [
      "\u001b[1;31m---------------------------------------------------------------------------\u001b[0m",
      "\u001b[1;31mKeyError\u001b[0m                                  Traceback (most recent call last)",
      "Cell \u001b[1;32mIn[39], line 1\u001b[0m\n\u001b[1;32m----> 1\u001b[0m dfc\u001b[38;5;241m=\u001b[39m\u001b[43mdf_corr\u001b[49m\u001b[38;5;241;43m.\u001b[39;49m\u001b[43mdrop\u001b[49m\u001b[43m(\u001b[49m\u001b[43mcolumns\u001b[49m\u001b[38;5;241;43m=\u001b[39;49m\u001b[43m[\u001b[49m\u001b[38;5;124;43m'\u001b[39;49m\u001b[38;5;124;43mRetired_Retired\u001b[39;49m\u001b[38;5;124;43m'\u001b[39;49m\u001b[43m]\u001b[49m\u001b[43m)\u001b[49m\n",
      "File \u001b[1;32mc:\\Users\\danie\\AppData\\Local\\Programs\\Python\\Python312\\Lib\\site-packages\\pandas\\core\\frame.py:5344\u001b[0m, in \u001b[0;36mDataFrame.drop\u001b[1;34m(self, labels, axis, index, columns, level, inplace, errors)\u001b[0m\n\u001b[0;32m   5196\u001b[0m \u001b[38;5;28;01mdef\u001b[39;00m \u001b[38;5;21mdrop\u001b[39m(\n\u001b[0;32m   5197\u001b[0m     \u001b[38;5;28mself\u001b[39m,\n\u001b[0;32m   5198\u001b[0m     labels: IndexLabel \u001b[38;5;241m|\u001b[39m \u001b[38;5;28;01mNone\u001b[39;00m \u001b[38;5;241m=\u001b[39m \u001b[38;5;28;01mNone\u001b[39;00m,\n\u001b[1;32m   (...)\u001b[0m\n\u001b[0;32m   5205\u001b[0m     errors: IgnoreRaise \u001b[38;5;241m=\u001b[39m \u001b[38;5;124m\"\u001b[39m\u001b[38;5;124mraise\u001b[39m\u001b[38;5;124m\"\u001b[39m,\n\u001b[0;32m   5206\u001b[0m ) \u001b[38;5;241m-\u001b[39m\u001b[38;5;241m>\u001b[39m DataFrame \u001b[38;5;241m|\u001b[39m \u001b[38;5;28;01mNone\u001b[39;00m:\n\u001b[0;32m   5207\u001b[0m \u001b[38;5;250m    \u001b[39m\u001b[38;5;124;03m\"\"\"\u001b[39;00m\n\u001b[0;32m   5208\u001b[0m \u001b[38;5;124;03m    Drop specified labels from rows or columns.\u001b[39;00m\n\u001b[0;32m   5209\u001b[0m \n\u001b[1;32m   (...)\u001b[0m\n\u001b[0;32m   5342\u001b[0m \u001b[38;5;124;03m            weight  1.0     0.8\u001b[39;00m\n\u001b[0;32m   5343\u001b[0m \u001b[38;5;124;03m    \"\"\"\u001b[39;00m\n\u001b[1;32m-> 5344\u001b[0m     \u001b[38;5;28;01mreturn\u001b[39;00m \u001b[38;5;28;43msuper\u001b[39;49m\u001b[43m(\u001b[49m\u001b[43m)\u001b[49m\u001b[38;5;241;43m.\u001b[39;49m\u001b[43mdrop\u001b[49m\u001b[43m(\u001b[49m\n\u001b[0;32m   5345\u001b[0m \u001b[43m        \u001b[49m\u001b[43mlabels\u001b[49m\u001b[38;5;241;43m=\u001b[39;49m\u001b[43mlabels\u001b[49m\u001b[43m,\u001b[49m\n\u001b[0;32m   5346\u001b[0m \u001b[43m        \u001b[49m\u001b[43maxis\u001b[49m\u001b[38;5;241;43m=\u001b[39;49m\u001b[43maxis\u001b[49m\u001b[43m,\u001b[49m\n\u001b[0;32m   5347\u001b[0m \u001b[43m        \u001b[49m\u001b[43mindex\u001b[49m\u001b[38;5;241;43m=\u001b[39;49m\u001b[43mindex\u001b[49m\u001b[43m,\u001b[49m\n\u001b[0;32m   5348\u001b[0m \u001b[43m        \u001b[49m\u001b[43mcolumns\u001b[49m\u001b[38;5;241;43m=\u001b[39;49m\u001b[43mcolumns\u001b[49m\u001b[43m,\u001b[49m\n\u001b[0;32m   5349\u001b[0m \u001b[43m        \u001b[49m\u001b[43mlevel\u001b[49m\u001b[38;5;241;43m=\u001b[39;49m\u001b[43mlevel\u001b[49m\u001b[43m,\u001b[49m\n\u001b[0;32m   5350\u001b[0m \u001b[43m        \u001b[49m\u001b[43minplace\u001b[49m\u001b[38;5;241;43m=\u001b[39;49m\u001b[43minplace\u001b[49m\u001b[43m,\u001b[49m\n\u001b[0;32m   5351\u001b[0m \u001b[43m        \u001b[49m\u001b[43merrors\u001b[49m\u001b[38;5;241;43m=\u001b[39;49m\u001b[43merrors\u001b[49m\u001b[43m,\u001b[49m\n\u001b[0;32m   5352\u001b[0m \u001b[43m    \u001b[49m\u001b[43m)\u001b[49m\n",
      "File \u001b[1;32mc:\\Users\\danie\\AppData\\Local\\Programs\\Python\\Python312\\Lib\\site-packages\\pandas\\core\\generic.py:4711\u001b[0m, in \u001b[0;36mNDFrame.drop\u001b[1;34m(self, labels, axis, index, columns, level, inplace, errors)\u001b[0m\n\u001b[0;32m   4709\u001b[0m \u001b[38;5;28;01mfor\u001b[39;00m axis, labels \u001b[38;5;129;01min\u001b[39;00m axes\u001b[38;5;241m.\u001b[39mitems():\n\u001b[0;32m   4710\u001b[0m     \u001b[38;5;28;01mif\u001b[39;00m labels \u001b[38;5;129;01mis\u001b[39;00m \u001b[38;5;129;01mnot\u001b[39;00m \u001b[38;5;28;01mNone\u001b[39;00m:\n\u001b[1;32m-> 4711\u001b[0m         obj \u001b[38;5;241m=\u001b[39m \u001b[43mobj\u001b[49m\u001b[38;5;241;43m.\u001b[39;49m\u001b[43m_drop_axis\u001b[49m\u001b[43m(\u001b[49m\u001b[43mlabels\u001b[49m\u001b[43m,\u001b[49m\u001b[43m \u001b[49m\u001b[43maxis\u001b[49m\u001b[43m,\u001b[49m\u001b[43m \u001b[49m\u001b[43mlevel\u001b[49m\u001b[38;5;241;43m=\u001b[39;49m\u001b[43mlevel\u001b[49m\u001b[43m,\u001b[49m\u001b[43m \u001b[49m\u001b[43merrors\u001b[49m\u001b[38;5;241;43m=\u001b[39;49m\u001b[43merrors\u001b[49m\u001b[43m)\u001b[49m\n\u001b[0;32m   4713\u001b[0m \u001b[38;5;28;01mif\u001b[39;00m inplace:\n\u001b[0;32m   4714\u001b[0m     \u001b[38;5;28mself\u001b[39m\u001b[38;5;241m.\u001b[39m_update_inplace(obj)\n",
      "File \u001b[1;32mc:\\Users\\danie\\AppData\\Local\\Programs\\Python\\Python312\\Lib\\site-packages\\pandas\\core\\generic.py:4753\u001b[0m, in \u001b[0;36mNDFrame._drop_axis\u001b[1;34m(self, labels, axis, level, errors, only_slice)\u001b[0m\n\u001b[0;32m   4751\u001b[0m         new_axis \u001b[38;5;241m=\u001b[39m axis\u001b[38;5;241m.\u001b[39mdrop(labels, level\u001b[38;5;241m=\u001b[39mlevel, errors\u001b[38;5;241m=\u001b[39merrors)\n\u001b[0;32m   4752\u001b[0m     \u001b[38;5;28;01melse\u001b[39;00m:\n\u001b[1;32m-> 4753\u001b[0m         new_axis \u001b[38;5;241m=\u001b[39m \u001b[43maxis\u001b[49m\u001b[38;5;241;43m.\u001b[39;49m\u001b[43mdrop\u001b[49m\u001b[43m(\u001b[49m\u001b[43mlabels\u001b[49m\u001b[43m,\u001b[49m\u001b[43m \u001b[49m\u001b[43merrors\u001b[49m\u001b[38;5;241;43m=\u001b[39;49m\u001b[43merrors\u001b[49m\u001b[43m)\u001b[49m\n\u001b[0;32m   4754\u001b[0m     indexer \u001b[38;5;241m=\u001b[39m axis\u001b[38;5;241m.\u001b[39mget_indexer(new_axis)\n\u001b[0;32m   4756\u001b[0m \u001b[38;5;66;03m# Case for non-unique axis\u001b[39;00m\n\u001b[0;32m   4757\u001b[0m \u001b[38;5;28;01melse\u001b[39;00m:\n",
      "File \u001b[1;32mc:\\Users\\danie\\AppData\\Local\\Programs\\Python\\Python312\\Lib\\site-packages\\pandas\\core\\indexes\\base.py:7000\u001b[0m, in \u001b[0;36mIndex.drop\u001b[1;34m(self, labels, errors)\u001b[0m\n\u001b[0;32m   6998\u001b[0m \u001b[38;5;28;01mif\u001b[39;00m mask\u001b[38;5;241m.\u001b[39many():\n\u001b[0;32m   6999\u001b[0m     \u001b[38;5;28;01mif\u001b[39;00m errors \u001b[38;5;241m!=\u001b[39m \u001b[38;5;124m\"\u001b[39m\u001b[38;5;124mignore\u001b[39m\u001b[38;5;124m\"\u001b[39m:\n\u001b[1;32m-> 7000\u001b[0m         \u001b[38;5;28;01mraise\u001b[39;00m \u001b[38;5;167;01mKeyError\u001b[39;00m(\u001b[38;5;124mf\u001b[39m\u001b[38;5;124m\"\u001b[39m\u001b[38;5;132;01m{\u001b[39;00mlabels[mask]\u001b[38;5;241m.\u001b[39mtolist()\u001b[38;5;132;01m}\u001b[39;00m\u001b[38;5;124m not found in axis\u001b[39m\u001b[38;5;124m\"\u001b[39m)\n\u001b[0;32m   7001\u001b[0m     indexer \u001b[38;5;241m=\u001b[39m indexer[\u001b[38;5;241m~\u001b[39mmask]\n\u001b[0;32m   7002\u001b[0m \u001b[38;5;28;01mreturn\u001b[39;00m \u001b[38;5;28mself\u001b[39m\u001b[38;5;241m.\u001b[39mdelete(indexer)\n",
      "\u001b[1;31mKeyError\u001b[0m: \"['Retired_Retired'] not found in axis\""
     ]
    }
   ],
   "source": [
    "dfc=df_corr.drop(columns=['Retired_Retired'])"
   ]
  },
  {
   "cell_type": "code",
   "execution_count": 14,
   "id": "2199e899",
   "metadata": {},
   "outputs": [],
   "source": [
    "#1. Normalizamos las variables numericas\n",
    "#1.\n",
    "variables_numericas=[i for i in dfc.columns if dfc[i].dtype != \"category\"]\n",
    "min_max_scaler = MinMaxScaler()\n",
    "min_max_scaler.fit(dfc[variables_numericas]) \n",
    "dfc[variables_numericas]= min_max_scaler.transform(dfc[variables_numericas]) "
   ]
  },
  {
   "cell_type": "code",
   "execution_count": 15,
   "id": "3a0d4257",
   "metadata": {},
   "outputs": [
    {
     "data": {
      "image/png": "[encoded data removed]",
      "text/plain": [
       "<Figure size 800x400 with 1 Axes>"
      ]
     },
     "metadata": {},
     "output_type": "display_data"
    }
   ],
   "source": [
    "# Método del codo para determinar el número óptimo de clusters\n",
    "inertia = []\n",
    "K = range(1, 20)\n",
    "for k in K:\n",
    "    kmeans = KMeans(n_clusters=k, random_state=42, n_init=10)\n",
    "    kmeans.fit(dfc)\n",
    "    inertia.append(kmeans.inertia_)\n",
    "\n",
    "plt.figure(figsize=(8, 4))\n",
    "plt.plot(K, inertia, 'bo-')\n",
    "plt.xlabel('Número de clusters (k)')\n",
    "plt.ylabel('Inercia')\n",
    "plt.title('Método del codo para selección de k')\n",
    "plt.show()"
   ]
  },
  {
   "cell_type": "markdown",
   "id": "ca137ac2",
   "metadata": {},
   "source": [
    "La cantidad de clusters a seleccionar no son claras, pero por el entendimiento de negocio se seleccionaron 3 clusters para poder realizar pocas estrategias de retencion en un inicio, con el fin de minimizar costos"
   ]
  },
  {
   "cell_type": "code",
   "execution_count": 16,
   "id": "72e5559d",
   "metadata": {},
   "outputs": [
    {
     "data": {
      "text/html": [
       "<style>#sk-container-id-1 {color: black;}#sk-container-id-1 pre{padding: 0;}#sk-container-id-1 div.sk-toggleable {background-color: white;}#sk-container-id-1 label.sk-toggleable__label {cursor: pointer;display: block;width: 100%;margin-bottom: 0;padding: 0.3em;box-sizing: border-box;text-align: center;}#sk-container-id-1 label.sk-toggleable__label-arrow:before {content: \"▸\";float: left;margin-right: 0.25em;color: #696969;}#sk-container-id-1 label.sk-toggleable__label-arrow:hover:before {color: black;}#sk-container-id-1 div.sk-estimator:hover label.sk-toggleable__label-arrow:before {color: black;}#sk-container-id-1 div.sk-toggleable__content {max-height: 0;max-width: 0;overflow: hidden;text-align: left;background-color: #f0f8ff;}#sk-container-id-1 div.sk-toggleable__content pre {margin: 0.2em;color: black;border-radius: 0.25em;background-color: #f0f8ff;}#sk-container-id-1 input.sk-toggleable__control:checked~div.sk-toggleable__content {max-height: 200px;max-width: 100%;overflow: auto;}#sk-container-id-1 input.sk-toggleable__control:checked~label.sk-toggleable__label-arrow:before {content: \"▾\";}#sk-container-id-1 div.sk-estimator input.sk-toggleable__control:checked~label.sk-toggleable__label {background-color: #d4ebff;}#sk-container-id-1 div.sk-label input.sk-toggleable__control:checked~label.sk-toggleable__label {background-color: #d4ebff;}#sk-container-id-1 input.sk-hidden--visually {border: 0;clip: rect(1px 1px 1px 1px);clip: rect(1px, 1px, 1px, 1px);height: 1px;margin: -1px;overflow: hidden;padding: 0;position: absolute;width: 1px;}#sk-container-id-1 div.sk-estimator {font-family: monospace;background-color: #f0f8ff;border: 1px dotted black;border-radius: 0.25em;box-sizing: border-box;margin-bottom: 0.5em;}#sk-container-id-1 div.sk-estimator:hover {background-color: #d4ebff;}#sk-container-id-1 div.sk-parallel-item::after {content: \"\";width: 100%;border-bottom: 1px solid gray;flex-grow: 1;}#sk-container-id-1 div.sk-label:hover label.sk-toggleable__label {background-color: #d4ebff;}#sk-container-id-1 div.sk-serial::before {content: \"\";position: absolute;border-left: 1px solid gray;box-sizing: border-box;top: 0;bottom: 0;left: 50%;z-index: 0;}#sk-container-id-1 div.sk-serial {display: flex;flex-direction: column;align-items: center;background-color: white;padding-right: 0.2em;padding-left: 0.2em;position: relative;}#sk-container-id-1 div.sk-item {position: relative;z-index: 1;}#sk-container-id-1 div.sk-parallel {display: flex;align-items: stretch;justify-content: center;background-color: white;position: relative;}#sk-container-id-1 div.sk-item::before, #sk-container-id-1 div.sk-parallel-item::before {content: \"\";position: absolute;border-left: 1px solid gray;box-sizing: border-box;top: 0;bottom: 0;left: 50%;z-index: -1;}#sk-container-id-1 div.sk-parallel-item {display: flex;flex-direction: column;z-index: 1;position: relative;background-color: white;}#sk-container-id-1 div.sk-parallel-item:first-child::after {align-self: flex-end;width: 50%;}#sk-container-id-1 div.sk-parallel-item:last-child::after {align-self: flex-start;width: 50%;}#sk-container-id-1 div.sk-parallel-item:only-child::after {width: 0;}#sk-container-id-1 div.sk-dashed-wrapped {border: 1px dashed gray;margin: 0 0.4em 0.5em 0.4em;box-sizing: border-box;padding-bottom: 0.4em;background-color: white;}#sk-container-id-1 div.sk-label label {font-family: monospace;font-weight: bold;display: inline-block;line-height: 1.2em;}#sk-container-id-1 div.sk-label-container {text-align: center;}#sk-container-id-1 div.sk-container {/* jupyter's `normalize.less` sets `[hidden] { display: none; }` but bootstrap.min.css set `[hidden] { display: none !important; }` so we also need the `!important` here to be able to override the default hidden behavior on the sphinx rendered scikit-learn.org. See: https://github.com/scikit-learn/scikit-learn/issues/21755 */display: inline-block !important;position: relative;}#sk-container-id-1 div.sk-text-repr-fallback {display: none;}</style><div id=\"sk-container-id-1\" class=\"sk-top-container\"><div class=\"sk-text-repr-fallback\"><pre>KMeans(n_clusters=3, n_init=&#x27;auto&#x27;, random_state=42)</pre><b>In a Jupyter environment, please rerun this cell to show the HTML representation or trust the notebook. <br />On GitHub, the HTML representation is unable to render, please try loading this page with nbviewer.org.</b></div><div class=\"sk-container\" hidden><div class=\"sk-item\"><div class=\"sk-estimator sk-toggleable\"><input class=\"sk-toggleable__control sk-hidden--visually\" id=\"sk-estimator-id-1\" type=\"checkbox\" checked><label for=\"sk-estimator-id-1\" class=\"sk-toggleable__label sk-toggleable__label-arrow\">KMeans</label><div class=\"sk-toggleable__content\"><pre>KMeans(n_clusters=3, n_init=&#x27;auto&#x27;, random_state=42)</pre></div></div></div></div></div>"
      ],
      "text/plain": [
       "KMeans(n_clusters=3, n_init='auto', random_state=42)"
      ]
     },
     "execution_count": 16,
     "metadata": {},
     "output_type": "execute_result"
    }
   ],
   "source": [
    "kmeans_final = KMeans(n_clusters=3,max_iter=300, random_state=42,n_init='auto')  # Inicializar KMeans con el número de clusters\n",
    "kmeans_final.fit(dfc)\n"
   ]
  },
  {
   "cell_type": "code",
   "execution_count": 17,
   "id": "f650862a",
   "metadata": {},
   "outputs": [
    {
     "name": "stdout",
     "output_type": "stream",
     "text": [
      "Metricas de evaluacion:\n",
      "Inercia: 17578.335514652514\n",
      "Silhouette Score: 0.10904124737457198\n"
     ]
    }
   ],
   "source": [
    "print(\"Metricas de evaluacion:\")\n",
    "print(\"Inercia:\", kmeans_final.inertia_)\n",
    "print(\"Silhouette Score:\", silhouette_score(dfc, kmeans_final.labels_))"
   ]
  },
  {
   "cell_type": "code",
   "execution_count": 18,
   "id": "afbef80e",
   "metadata": {},
   "outputs": [
    {
     "data": {
      "text/html": [
       "<div>\n",
       "<style scoped>\n",
       "    .dataframe tbody tr th:only-of-type {\n",
       "        vertical-align: middle;\n",
       "    }\n",
       "\n",
       "    .dataframe tbody tr th {\n",
       "        vertical-align: top;\n",
       "    }\n",
       "\n",
       "    .dataframe thead th {\n",
       "        text-align: right;\n",
       "    }\n",
       "</style>\n",
       "<table border=\"1\" class=\"dataframe\">\n",
       "  <thead>\n",
       "    <tr style=\"text-align: right;\">\n",
       "      <th></th>\n",
       "      <th>JobInvolvement</th>\n",
       "      <th>PerformanceRating</th>\n",
       "      <th>Age</th>\n",
       "      <th>DistanceFromHome</th>\n",
       "      <th>Education</th>\n",
       "      <th>JobLevel</th>\n",
       "      <th>MonthlyIncome</th>\n",
       "      <th>NumCompaniesWorked</th>\n",
       "      <th>PercentSalaryHike</th>\n",
       "      <th>StockOptionLevel</th>\n",
       "      <th>...</th>\n",
       "      <th>JobRole_Manager</th>\n",
       "      <th>JobRole_Manufacturing Director</th>\n",
       "      <th>JobRole_Research Director</th>\n",
       "      <th>JobRole_Research Scientist</th>\n",
       "      <th>JobRole_Sales Executive</th>\n",
       "      <th>JobRole_Sales Representative</th>\n",
       "      <th>MaritalStatus_Divorced</th>\n",
       "      <th>MaritalStatus_Married</th>\n",
       "      <th>MaritalStatus_Single</th>\n",
       "      <th>Gender_Male</th>\n",
       "    </tr>\n",
       "  </thead>\n",
       "  <tbody>\n",
       "    <tr>\n",
       "      <th>0</th>\n",
       "      <td>0.6</td>\n",
       "      <td>0.2</td>\n",
       "      <td>0.5</td>\n",
       "      <td>0.3</td>\n",
       "      <td>0.5</td>\n",
       "      <td>0.3</td>\n",
       "      <td>0.3</td>\n",
       "      <td>0.3</td>\n",
       "      <td>0.3</td>\n",
       "      <td>0.3</td>\n",
       "      <td>...</td>\n",
       "      <td>0.1</td>\n",
       "      <td>0.1</td>\n",
       "      <td>0.0</td>\n",
       "      <td>0.2</td>\n",
       "      <td>0.2</td>\n",
       "      <td>0.1</td>\n",
       "      <td>0.0</td>\n",
       "      <td>1.0</td>\n",
       "      <td>0.0</td>\n",
       "      <td>0.6</td>\n",
       "    </tr>\n",
       "    <tr>\n",
       "      <th>1</th>\n",
       "      <td>0.6</td>\n",
       "      <td>0.1</td>\n",
       "      <td>0.5</td>\n",
       "      <td>0.3</td>\n",
       "      <td>0.5</td>\n",
       "      <td>0.3</td>\n",
       "      <td>0.3</td>\n",
       "      <td>0.3</td>\n",
       "      <td>0.3</td>\n",
       "      <td>0.3</td>\n",
       "      <td>...</td>\n",
       "      <td>0.1</td>\n",
       "      <td>0.1</td>\n",
       "      <td>0.0</td>\n",
       "      <td>0.2</td>\n",
       "      <td>0.2</td>\n",
       "      <td>0.1</td>\n",
       "      <td>1.0</td>\n",
       "      <td>-0.0</td>\n",
       "      <td>0.0</td>\n",
       "      <td>0.6</td>\n",
       "    </tr>\n",
       "    <tr>\n",
       "      <th>2</th>\n",
       "      <td>0.6</td>\n",
       "      <td>0.2</td>\n",
       "      <td>0.4</td>\n",
       "      <td>0.3</td>\n",
       "      <td>0.5</td>\n",
       "      <td>0.3</td>\n",
       "      <td>0.3</td>\n",
       "      <td>0.3</td>\n",
       "      <td>0.3</td>\n",
       "      <td>0.3</td>\n",
       "      <td>...</td>\n",
       "      <td>0.1</td>\n",
       "      <td>0.1</td>\n",
       "      <td>0.1</td>\n",
       "      <td>0.2</td>\n",
       "      <td>0.2</td>\n",
       "      <td>0.1</td>\n",
       "      <td>-0.0</td>\n",
       "      <td>-0.0</td>\n",
       "      <td>1.0</td>\n",
       "      <td>0.6</td>\n",
       "    </tr>\n",
       "  </tbody>\n",
       "</table>\n",
       "<p>3 rows × 43 columns</p>\n",
       "</div>"
      ],
      "text/plain": [
       "   JobInvolvement  PerformanceRating  Age  DistanceFromHome  Education  \\\n",
       "0             0.6                0.2  0.5               0.3        0.5   \n",
       "1             0.6                0.1  0.5               0.3        0.5   \n",
       "2             0.6                0.2  0.4               0.3        0.5   \n",
       "\n",
       "   JobLevel  MonthlyIncome  NumCompaniesWorked  PercentSalaryHike  \\\n",
       "0       0.3            0.3                 0.3                0.3   \n",
       "1       0.3            0.3                 0.3                0.3   \n",
       "2       0.3            0.3                 0.3                0.3   \n",
       "\n",
       "   StockOptionLevel  ...  JobRole_Manager  JobRole_Manufacturing Director  \\\n",
       "0               0.3  ...              0.1                             0.1   \n",
       "1               0.3  ...              0.1                             0.1   \n",
       "2               0.3  ...              0.1                             0.1   \n",
       "\n",
       "   JobRole_Research Director  JobRole_Research Scientist  \\\n",
       "0                        0.0                         0.2   \n",
       "1                        0.0                         0.2   \n",
       "2                        0.1                         0.2   \n",
       "\n",
       "   JobRole_Sales Executive  JobRole_Sales Representative  \\\n",
       "0                      0.2                           0.1   \n",
       "1                      0.2                           0.1   \n",
       "2                      0.2                           0.1   \n",
       "\n",
       "   MaritalStatus_Divorced  MaritalStatus_Married  MaritalStatus_Single  \\\n",
       "0                     0.0                    1.0                   0.0   \n",
       "1                     1.0                   -0.0                   0.0   \n",
       "2                    -0.0                   -0.0                   1.0   \n",
       "\n",
       "   Gender_Male  \n",
       "0          0.6  \n",
       "1          0.6  \n",
       "2          0.6  \n",
       "\n",
       "[3 rows x 43 columns]"
      ]
     },
     "execution_count": 18,
     "metadata": {},
     "output_type": "execute_result"
    }
   ],
   "source": [
    "centroides=pd.DataFrame(kmeans_final.cluster_centers_, columns=dfc.columns) #Convertir los centroides en un DataFrame\n",
    "centroides.round(1)"
   ]
  },
  {
   "cell_type": "code",
   "execution_count": 19,
   "id": "b12bcb81",
   "metadata": {},
   "outputs": [
    {
     "data": {
      "text/html": [
       "<div>\n",
       "<style scoped>\n",
       "    .dataframe tbody tr th:only-of-type {\n",
       "        vertical-align: middle;\n",
       "    }\n",
       "\n",
       "    .dataframe tbody tr th {\n",
       "        vertical-align: top;\n",
       "    }\n",
       "\n",
       "    .dataframe thead th {\n",
       "        text-align: right;\n",
       "    }\n",
       "</style>\n",
       "<table border=\"1\" class=\"dataframe\">\n",
       "  <thead>\n",
       "    <tr style=\"text-align: right;\">\n",
       "      <th></th>\n",
       "      <th>JobInvolvement</th>\n",
       "      <th>PerformanceRating</th>\n",
       "      <th>Age</th>\n",
       "      <th>DistanceFromHome</th>\n",
       "      <th>Education</th>\n",
       "      <th>JobLevel</th>\n",
       "      <th>MonthlyIncome</th>\n",
       "      <th>NumCompaniesWorked</th>\n",
       "      <th>PercentSalaryHike</th>\n",
       "      <th>StockOptionLevel</th>\n",
       "      <th>...</th>\n",
       "      <th>JobRole_Manager</th>\n",
       "      <th>JobRole_Manufacturing Director</th>\n",
       "      <th>JobRole_Research Director</th>\n",
       "      <th>JobRole_Research Scientist</th>\n",
       "      <th>JobRole_Sales Executive</th>\n",
       "      <th>JobRole_Sales Representative</th>\n",
       "      <th>MaritalStatus_Divorced</th>\n",
       "      <th>MaritalStatus_Married</th>\n",
       "      <th>MaritalStatus_Single</th>\n",
       "      <th>Gender_Male</th>\n",
       "    </tr>\n",
       "  </thead>\n",
       "  <tbody>\n",
       "    <tr>\n",
       "      <th>0</th>\n",
       "      <td>3.0</td>\n",
       "      <td>3.0</td>\n",
       "      <td>38.0</td>\n",
       "      <td>10.0</td>\n",
       "      <td>3.0</td>\n",
       "      <td>2.0</td>\n",
       "      <td>66063.0</td>\n",
       "      <td>3.0</td>\n",
       "      <td>15.0</td>\n",
       "      <td>1.0</td>\n",
       "      <td>...</td>\n",
       "      <td>0.0</td>\n",
       "      <td>0.0</td>\n",
       "      <td>0.0</td>\n",
       "      <td>0.0</td>\n",
       "      <td>0.0</td>\n",
       "      <td>0.0</td>\n",
       "      <td>0.0</td>\n",
       "      <td>1.0</td>\n",
       "      <td>0.0</td>\n",
       "      <td>1.0</td>\n",
       "    </tr>\n",
       "    <tr>\n",
       "      <th>1</th>\n",
       "      <td>3.0</td>\n",
       "      <td>3.0</td>\n",
       "      <td>37.0</td>\n",
       "      <td>9.0</td>\n",
       "      <td>3.0</td>\n",
       "      <td>2.0</td>\n",
       "      <td>68010.0</td>\n",
       "      <td>3.0</td>\n",
       "      <td>15.0</td>\n",
       "      <td>1.0</td>\n",
       "      <td>...</td>\n",
       "      <td>0.0</td>\n",
       "      <td>0.0</td>\n",
       "      <td>0.0</td>\n",
       "      <td>0.0</td>\n",
       "      <td>0.0</td>\n",
       "      <td>0.0</td>\n",
       "      <td>1.0</td>\n",
       "      <td>-0.0</td>\n",
       "      <td>0.0</td>\n",
       "      <td>1.0</td>\n",
       "    </tr>\n",
       "    <tr>\n",
       "      <th>2</th>\n",
       "      <td>3.0</td>\n",
       "      <td>3.0</td>\n",
       "      <td>35.0</td>\n",
       "      <td>9.0</td>\n",
       "      <td>3.0</td>\n",
       "      <td>2.0</td>\n",
       "      <td>61475.0</td>\n",
       "      <td>3.0</td>\n",
       "      <td>15.0</td>\n",
       "      <td>1.0</td>\n",
       "      <td>...</td>\n",
       "      <td>0.0</td>\n",
       "      <td>0.0</td>\n",
       "      <td>0.0</td>\n",
       "      <td>0.0</td>\n",
       "      <td>0.0</td>\n",
       "      <td>0.0</td>\n",
       "      <td>-0.0</td>\n",
       "      <td>-0.0</td>\n",
       "      <td>1.0</td>\n",
       "      <td>1.0</td>\n",
       "    </tr>\n",
       "  </tbody>\n",
       "</table>\n",
       "<p>3 rows × 43 columns</p>\n",
       "</div>"
      ],
      "text/plain": [
       "   JobInvolvement  PerformanceRating   Age  DistanceFromHome  Education  \\\n",
       "0             3.0                3.0  38.0              10.0        3.0   \n",
       "1             3.0                3.0  37.0               9.0        3.0   \n",
       "2             3.0                3.0  35.0               9.0        3.0   \n",
       "\n",
       "   JobLevel  MonthlyIncome  NumCompaniesWorked  PercentSalaryHike  \\\n",
       "0       2.0        66063.0                 3.0               15.0   \n",
       "1       2.0        68010.0                 3.0               15.0   \n",
       "2       2.0        61475.0                 3.0               15.0   \n",
       "\n",
       "   StockOptionLevel  ...  JobRole_Manager  JobRole_Manufacturing Director  \\\n",
       "0               1.0  ...              0.0                             0.0   \n",
       "1               1.0  ...              0.0                             0.0   \n",
       "2               1.0  ...              0.0                             0.0   \n",
       "\n",
       "   JobRole_Research Director  JobRole_Research Scientist  \\\n",
       "0                        0.0                         0.0   \n",
       "1                        0.0                         0.0   \n",
       "2                        0.0                         0.0   \n",
       "\n",
       "   JobRole_Sales Executive  JobRole_Sales Representative  \\\n",
       "0                      0.0                           0.0   \n",
       "1                      0.0                           0.0   \n",
       "2                      0.0                           0.0   \n",
       "\n",
       "   MaritalStatus_Divorced  MaritalStatus_Married  MaritalStatus_Single  \\\n",
       "0                     0.0                    1.0                   0.0   \n",
       "1                     1.0                   -0.0                   0.0   \n",
       "2                    -0.0                   -0.0                   1.0   \n",
       "\n",
       "   Gender_Male  \n",
       "0          1.0  \n",
       "1          1.0  \n",
       "2          1.0  \n",
       "\n",
       "[3 rows x 43 columns]"
      ]
     },
     "execution_count": 19,
     "metadata": {},
     "output_type": "execute_result"
    }
   ],
   "source": [
    "centroides[variables_numericas]=min_max_scaler.inverse_transform(centroides[variables_numericas]) #Deshacer la estandarizacion de las variables numericas\n",
    "centroides.round(0)"
   ]
  },
  {
   "cell_type": "markdown",
   "id": "0582c33d",
   "metadata": {},
   "source": [
    "AQUI SE AGREGARA LA DESCRIPCION DE LOS CENTROIDES"
   ]
  },
  {
   "cell_type": "code",
   "execution_count": 20,
   "id": "b89cd8fb",
   "metadata": {},
   "outputs": [],
   "source": [
    "dfc['cluster'] = kmeans_final.labels_"
   ]
  },
  {
   "cell_type": "code",
   "execution_count": 21,
   "id": "217a9e59",
   "metadata": {},
   "outputs": [
    {
     "data": {
      "text/plain": [
       "<Axes: ylabel='count'>"
      ]
     },
     "execution_count": 21,
     "metadata": {},
     "output_type": "execute_result"
    },
    {
     "data": {
      "image/png": "[encoded data removed]",
      "text/plain": [
       "<Figure size 640x480 with 1 Axes>"
      ]
     },
     "metadata": {},
     "output_type": "display_data"
    }
   ],
   "source": [
    "dfc.cluster.value_counts().plot(kind='pie')"
   ]
  },
  {
   "cell_type": "markdown",
   "id": "36f8f5d6",
   "metadata": {},
   "source": [
    "### **Predictiva (Clasificacion)**\n",
    "\n",
    "\n",
    "1. **Preparación de datos:** variables numéricas se deben normalizar, variables categórcias se crean dummies, abalancer la variable objetivo en caso de ser necesario\n",
    "2. **Aprendizaje del Modelo:** Kmeans, método del codo/rodilla\n",
    "3. **Evaluación del Modelo:** Inertia, silueta\n",
    "4. **Perfilamiento:** Descripción de centroides"
   ]
  },
  {
   "cell_type": "markdown",
   "id": "927c2283",
   "metadata": {},
   "source": [
    "#### Preparacion"
   ]
  },
  {
   "cell_type": "code",
   "execution_count": 22,
   "id": "58d158ab",
   "metadata": {},
   "outputs": [],
   "source": [
    "dfc=data.drop(columns=to_drop)"
   ]
  },
  {
   "cell_type": "code",
   "execution_count": 23,
   "id": "5c943c89",
   "metadata": {},
   "outputs": [],
   "source": [
    "notdropf=['BusinessTravel','Department','EducationField',\n",
    "          'JobRole','MaritalStatus']"
   ]
  },
  {
   "cell_type": "code",
   "execution_count": 24,
   "id": "dc41135e",
   "metadata": {},
   "outputs": [],
   "source": [
    "dfc=pd.get_dummies(dfc, columns=notdropf, drop_first=False,dtype=int)"
   ]
  },
  {
   "cell_type": "code",
   "execution_count": 25,
   "id": "c1894303",
   "metadata": {},
   "outputs": [],
   "source": [
    "#1.\n",
    "variables_numericas=[i for i in dfc.columns if dfc[i].dtype != \"category\"]\n",
    "min_max_scaler = MinMaxScaler()\n",
    "min_max_scaler.fit(dfc[variables_numericas]) \n",
    "dfc[variables_numericas]= min_max_scaler.transform(dfc[variables_numericas]) "
   ]
  },
  {
   "cell_type": "code",
   "execution_count": 26,
   "id": "3683cfe8",
   "metadata": {},
   "outputs": [],
   "source": [
    "le = LabelEncoder()\n",
    "le.fit(dfc['Retired'])\n",
    "dfc['Retired']=le.transform(dfc['Retired'])"
   ]
  },
  {
   "cell_type": "code",
   "execution_count": 27,
   "id": "c79d7eb6",
   "metadata": {},
   "outputs": [
    {
     "name": "stdout",
     "output_type": "stream",
     "text": [
      "Las columnas despues de la obtencion de dummies y\n",
      "la eliminacion de variables irrelevantes pasaron de 25 a 40\n"
     ]
    }
   ],
   "source": [
    "print(\n",
    "    f'Las columnas despues de la obtencion de dummies y\\nla eliminacion de variables irrelevantes pasaron de {data.columns.size} a {dfc.columns.size}'\n",
    ")"
   ]
  },
  {
   "cell_type": "code",
   "execution_count": 28,
   "id": "08d19f2d",
   "metadata": {},
   "outputs": [
    {
     "data": {
      "text/plain": [
       "'Segun la grafica se necesita hacer un balanceo  de clases para poder entrenar mejor el modelo'"
      ]
     },
     "execution_count": 28,
     "metadata": {},
     "output_type": "execute_result"
    },
    {
     "data": {
      "image/png": "[encoded data removed]",
      "text/plain": [
       "<Figure size 640x480 with 1 Axes>"
      ]
     },
     "metadata": {},
     "output_type": "display_data"
    }
   ],
   "source": [
    "dfc['Retired'].value_counts().plot(kind='bar')\n",
    "\n",
    "\"\"\"Segun la grafica se necesita hacer un balanceo  de clases para poder entrenar mejor el modelo\"\"\""
   ]
  },
  {
   "cell_type": "code",
   "execution_count": 29,
   "id": "722acf08",
   "metadata": {},
   "outputs": [],
   "source": [
    "X = dfc.drop(columns=['Retired'])\n",
    "y = dfc['Retired']"
   ]
  },
  {
   "cell_type": "code",
   "execution_count": 30,
   "id": "55d4dc54",
   "metadata": {},
   "outputs": [
    {
     "name": "stdout",
     "output_type": "stream",
     "text": [
      "Distribución original: Retired\n",
      "0    3769\n",
      "1     641\n",
      "Name: count, dtype: int64\n",
      "Distribución balanceada: Retired\n",
      "0    3769\n",
      "1    2072\n",
      "Name: count, dtype: int64\n"
     ]
    }
   ],
   "source": [
    "# Balanceamos los registros de la variable objetiv\n",
    "\n",
    "smote = SMOTE(sampling_strategy=0.55, random_state=42,k_neighbors=3)\n",
    "X_balanced, y_balanced = smote.fit_resample(X, y)\n",
    "\n",
    "print('Distribución original:', y.value_counts())\n",
    "print('Distribución balanceada:', y_balanced.value_counts())"
   ]
  },
  {
   "cell_type": "code",
   "execution_count": 31,
   "id": "df0a7350",
   "metadata": {},
   "outputs": [
    {
     "data": {
      "text/plain": [
       "<Axes: xlabel='Retired'>"
      ]
     },
     "execution_count": 31,
     "metadata": {},
     "output_type": "execute_result"
    },
    {
     "data": {
      "image/png": "[encoded data removed]",
      "text/plain": [
       "<Figure size 640x480 with 1 Axes>"
      ]
     },
     "metadata": {},
     "output_type": "display_data"
    }
   ],
   "source": [
    "y_balanced.value_counts().plot(kind='bar')"
   ]
  },
  {
   "cell_type": "code",
   "execution_count": 32,
   "id": "7a055f86",
   "metadata": {},
   "outputs": [
    {
     "name": "stdout",
     "output_type": "stream",
     "text": [
      "<class 'pandas.core.frame.DataFrame'>\n",
      "RangeIndex: 5841 entries, 0 to 5840\n",
      "Data columns (total 39 columns):\n",
      " #   Column                             Non-Null Count  Dtype  \n",
      "---  ------                             --------------  -----  \n",
      " 0   JobInvolvement                     5841 non-null   float64\n",
      " 1   PerformanceRating                  5841 non-null   float64\n",
      " 2   Age                                5841 non-null   float64\n",
      " 3   Education                          5841 non-null   float64\n",
      " 4   MonthlyIncome                      5841 non-null   float64\n",
      " 5   NumCompaniesWorked                 5841 non-null   float64\n",
      " 6   PercentSalaryHike                  5841 non-null   float64\n",
      " 7   TotalWorkingYears                  5841 non-null   float64\n",
      " 8   TrainingTimesLastYear              5841 non-null   float64\n",
      " 9   YearsAtCompany                     5841 non-null   float64\n",
      " 10  YearsSinceLastPromotion            5841 non-null   float64\n",
      " 11  YearsWithCurrManager               5841 non-null   float64\n",
      " 12  EnvironmentSatisfaction            5841 non-null   float64\n",
      " 13  JobSatisfaction                    5841 non-null   float64\n",
      " 14  WorkLifeBalance                    5841 non-null   float64\n",
      " 15  BusinessTravel_Non-Travel          5841 non-null   float64\n",
      " 16  BusinessTravel_Travel_Frequently   5841 non-null   float64\n",
      " 17  BusinessTravel_Travel_Rarely       5841 non-null   float64\n",
      " 18  Department_Human Resources         5841 non-null   float64\n",
      " 19  Department_Research & Development  5841 non-null   float64\n",
      " 20  Department_Sales                   5841 non-null   float64\n",
      " 21  EducationField_Human Resources     5841 non-null   float64\n",
      " 22  EducationField_Life Sciences       5841 non-null   float64\n",
      " 23  EducationField_Marketing           5841 non-null   float64\n",
      " 24  EducationField_Medical             5841 non-null   float64\n",
      " 25  EducationField_Other               5841 non-null   float64\n",
      " 26  EducationField_Technical Degree    5841 non-null   float64\n",
      " 27  JobRole_Healthcare Representative  5841 non-null   float64\n",
      " 28  JobRole_Human Resources            5841 non-null   float64\n",
      " 29  JobRole_Laboratory Technician      5841 non-null   float64\n",
      " 30  JobRole_Manager                    5841 non-null   float64\n",
      " 31  JobRole_Manufacturing Director     5841 non-null   float64\n",
      " 32  JobRole_Research Director          5841 non-null   float64\n",
      " 33  JobRole_Research Scientist         5841 non-null   float64\n",
      " 34  JobRole_Sales Executive            5841 non-null   float64\n",
      " 35  JobRole_Sales Representative       5841 non-null   float64\n",
      " 36  MaritalStatus_Divorced             5841 non-null   float64\n",
      " 37  MaritalStatus_Married              5841 non-null   float64\n",
      " 38  MaritalStatus_Single               5841 non-null   float64\n",
      "dtypes: float64(39)\n",
      "memory usage: 1.7 MB\n"
     ]
    }
   ],
   "source": [
    "X_balanced.info()"
   ]
  },
  {
   "cell_type": "markdown",
   "id": "2f09505e",
   "metadata": {},
   "source": [
    "#### **Entrenamiento**\n",
    "\n",
    "Se entrenaran 3 modelos de clasificacion diferentes:\n",
    "\n",
    "- Neural Networks\n",
    "- Regresion Logistica\n",
    "- KNN\n",
    "\n",
    "----------\n",
    "\n",
    "Como se hara el entrenamiento?:\n",
    "\n",
    "- Validación cruzada.\n",
    "\n",
    "    - Entrenar y evaluar varios modelos/hiperparámetros.\n",
    "\n",
    "- Seleccionar el mejor modelo."
   ]
  },
  {
   "cell_type": "markdown",
   "id": "23706257",
   "metadata": {},
   "source": [
    "##### Regresion Logistica"
   ]
  },
  {
   "cell_type": "code",
   "execution_count": 104,
   "id": "977339ab",
   "metadata": {},
   "outputs": [
    {
     "name": "stdout",
     "output_type": "stream",
     "text": [
      "              precision    recall  f1-score   support\n",
      "\n",
      "           0       0.77      0.85      0.81      3769\n",
      "           1       0.66      0.54      0.60      2072\n",
      "\n",
      "    accuracy                           0.74      5841\n",
      "   macro avg       0.72      0.70      0.70      5841\n",
      "weighted avg       0.73      0.74      0.73      5841\n",
      "\n"
     ]
    },
    {
     "data": {
      "text/plain": [
       "<sklearn.metrics._plot.confusion_matrix.ConfusionMatrixDisplay at 0x26a9a1672f0>"
      ]
     },
     "execution_count": 104,
     "metadata": {},
     "output_type": "execute_result"
    },
    {
     "data": {
      "image/png": "[encoded data removed]",
      "text/plain": [
       "<Figure size 640x480 with 2 Axes>"
      ]
     },
     "metadata": {},
     "output_type": "display_data"
    }
   ],
   "source": [
    "# Realiza validación cruzada para regresión logística (clasificación binaria)\n",
    "\n",
    "model = LogisticRegression()\n",
    "\n",
    "# Obtiene predicciones \"como si fueran test\" en cada fold\n",
    "y_pred_cv = cross_val_predict(model, X_balanced, y_balanced, cv=10)\n",
    "\n",
    "# Reporte de métricas\n",
    "print(classification_report(y_balanced, y_pred_cv))\n",
    "\n",
    "# Matriz de confusión\n",
    "cm = confusion_matrix(y_balanced, y_pred_cv)\n",
    "disp = ConfusionMatrixDisplay(confusion_matrix=cm)\n",
    "disp.plot(cmap=\"Blues\")"
   ]
  },
  {
   "cell_type": "markdown",
   "id": "f07fa75d",
   "metadata": {},
   "source": [
    "##### MultiLayer Perceptron (Redes Neuronales)"
   ]
  },
  {
   "cell_type": "code",
   "execution_count": 105,
   "id": "817d56ba",
   "metadata": {},
   "outputs": [
    {
     "name": "stdout",
     "output_type": "stream",
     "text": [
      "Mejores parámetros: {'hidden_layer_sizes': (64, 32)}\n"
     ]
    }
   ],
   "source": [
    "from sklearn.neural_network import MLPClassifier\n",
    "from sklearn.model_selection import GridSearchCV\n",
    "\"\"\" Con GridSearch Vamos a probar diferentes arquitecturas y a elegir la mejor\n",
    "    (20,) -> Metodo Heuristico donde la cantidad de neuronas es el promedio entre las neuronas de entrada y las de salida\n",
    "    (20,10) -> Metodo Heuristico Pero le damos capacidad de captar relaciones no lineales\n",
    "    (64,) -> Metodo un poco mas robusto estamos probando neuronas de la capa oculta iguales a 1.6x las entradas\n",
    "    (64, 32) -> Metodo mas robusto \n",
    "\n",
    "\"\"\"\n",
    "param_grid = {\n",
    "    'hidden_layer_sizes': [(20,),(20,10),(64,), (64, 32)]\n",
    "}\n",
    "\n",
    "mlp = MLPClassifier(\n",
    "    activation='logistic',\n",
    "    learning_rate='adaptive', learning_rate_init=0.2, \n",
    "    momentum=0.3, max_iter=500, random_state=3, early_stopping=True, alpha=0.001\n",
    ")\n",
    "\n",
    "grid = GridSearchCV(mlp, param_grid, scoring='f1', cv=5)\n",
    "grid.fit(X_balanced, y_balanced)\n",
    "print(\"Mejores parámetros:\", grid.best_params_)\n"
   ]
  },
  {
   "cell_type": "code",
   "execution_count": 106,
   "id": "f972a7a9",
   "metadata": {},
   "outputs": [],
   "source": [
    "#Evaluamos el modelo con los parametros seleccionados\n",
    "mlp = MLPClassifier(\n",
    "    hidden_layer_sizes=(64,32),\n",
    "    activation='logistic',\n",
    "    learning_rate='adaptive', learning_rate_init=0.2, \n",
    "    momentum=0.3, max_iter=500, random_state=3, early_stopping=True, alpha=0.001\n",
    ")"
   ]
  },
  {
   "cell_type": "code",
   "execution_count": 107,
   "id": "591e35dc",
   "metadata": {},
   "outputs": [
    {
     "name": "stdout",
     "output_type": "stream",
     "text": [
      "              precision    recall  f1-score   support\n",
      "\n",
      "           0       0.87      0.95      0.91      3769\n",
      "           1       0.89      0.75      0.81      2072\n",
      "\n",
      "    accuracy                           0.88      5841\n",
      "   macro avg       0.88      0.85      0.86      5841\n",
      "weighted avg       0.88      0.88      0.88      5841\n",
      "\n"
     ]
    },
    {
     "data": {
      "text/plain": [
       "<sklearn.metrics._plot.confusion_matrix.ConfusionMatrixDisplay at 0x26a87e00e60>"
      ]
     },
     "execution_count": 107,
     "metadata": {},
     "output_type": "execute_result"
    },
    {
     "data": {
      "image/png": "[encoded data removed]",
      "text/plain": [
       "<Figure size 640x480 with 2 Axes>"
      ]
     },
     "metadata": {},
     "output_type": "display_data"
    }
   ],
   "source": [
    "# Obtiene predicciones \"como si fueran test\" en cada fold\n",
    "y_pred_cv = cross_val_predict(mlp, X_balanced, y_balanced, cv=10)\n",
    "\n",
    "# Reporte de métricas\n",
    "print(classification_report(y_balanced, y_pred_cv))\n",
    "\n",
    "# Matriz de confusión\n",
    "cm = confusion_matrix(y_balanced, y_pred_cv)\n",
    "disp = ConfusionMatrixDisplay(confusion_matrix=cm)\n",
    "disp.plot(cmap=\"Blues\")"
   ]
  },
  {
   "cell_type": "markdown",
   "id": "18d711e9",
   "metadata": {},
   "source": [
    "##### KNearestNeighbors (Lazy)"
   ]
  },
  {
   "cell_type": "code",
   "execution_count": 108,
   "id": "b4fea8dc",
   "metadata": {},
   "outputs": [
    {
     "name": "stdout",
     "output_type": "stream",
     "text": [
      "              precision    recall  f1-score   support\n",
      "\n",
      "           0       0.99      0.84      0.91      3769\n",
      "           1       0.77      0.98      0.87      2072\n",
      "\n",
      "    accuracy                           0.89      5841\n",
      "   macro avg       0.88      0.91      0.89      5841\n",
      "weighted avg       0.91      0.89      0.89      5841\n",
      "\n"
     ]
    },
    {
     "data": {
      "text/plain": [
       "<sklearn.metrics._plot.confusion_matrix.ConfusionMatrixDisplay at 0x26a9a41c110>"
      ]
     },
     "execution_count": 108,
     "metadata": {},
     "output_type": "execute_result"
    },
    {
     "data": {
      "image/png": "[encoded data removed]",
      "text/plain": [
       "<Figure size 640x480 with 2 Axes>"
      ]
     },
     "metadata": {},
     "output_type": "display_data"
    }
   ],
   "source": [
    "from sklearn.neighbors import KNeighborsClassifier\n",
    "\n",
    "knn = KNeighborsClassifier(n_neighbors=5)\n",
    "\n",
    "# Obtiene predicciones \"como si fueran test\" en cada fold\n",
    "y_pred_cv = cross_val_predict(knn, X_balanced, y_balanced, cv=10)\n",
    "\n",
    "# Reporte de métricas\n",
    "print(classification_report(y_balanced, y_pred_cv))\n",
    "\n",
    "# Matriz de confusión\n",
    "cm = confusion_matrix(y_balanced, y_pred_cv)\n",
    "disp = ConfusionMatrixDisplay(confusion_matrix=cm)\n",
    "disp.plot(cmap=\"Blues\")"
   ]
  },
  {
   "cell_type": "markdown",
   "id": "6a96b71f",
   "metadata": {},
   "source": [
    "## Despliegue\n",
    "\n",
    "El modelo seleccionado fue un K Nearest Neighbors por lo que se guardara en un archivo .pickle para su posterior despliegue"
   ]
  },
  {
   "cell_type": "code",
   "execution_count": 109,
   "id": "71442a49",
   "metadata": {},
   "outputs": [],
   "source": [
    "filename='modelo_final.pickle'"
   ]
  },
  {
   "cell_type": "code",
   "execution_count": 110,
   "id": "c256b969",
   "metadata": {},
   "outputs": [],
   "source": [
    "knn_despliegue = KNeighborsClassifier(n_neighbors=5)\n",
    "\n",
    "knn_despliegue.fit(X_balanced,y_balanced)\n",
    "\n",
    "\n",
    "variables = X.columns.values\n",
    "pickle.dump([le,variables,min_max_scaler,knn_despliegue], open(filename, 'wb'))"
   ]
  }
 ],
 "metadata": {
  "kernelspec": {
   "display_name": "Python 3",
   "language": "python",
   "name": "python3"
  },
  "language_info": {
   "codemirror_mode": {
    "name": "ipython",
    "version": 3
   },
   "file_extension": ".py",
   "mimetype": "text/x-python",
   "name": "python",
   "nbconvert_exporter": "python",
   "pygments_lexer": "ipython3",
   "version": "3.12.1"
  }
 },
 "nbformat": 4,
 "nbformat_minor": 5
}
